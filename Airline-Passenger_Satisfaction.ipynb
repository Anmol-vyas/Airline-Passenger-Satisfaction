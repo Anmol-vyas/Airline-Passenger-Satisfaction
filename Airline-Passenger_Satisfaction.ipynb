{
 "cells": [
  {
   "cell_type": "markdown",
   "metadata": {},
   "source": [
    "#  AIRPASSENGER SATISFACTION (CLASSIFICATION)\n",
    "\n",
    " "
   ]
  },
  {
   "cell_type": "code",
   "execution_count": 1,
   "metadata": {},
   "outputs": [],
   "source": [
    "import pandas as pd\n",
    "import numpy as np # linear algebra\n",
    "%matplotlib inline\n",
    "import matplotlib.pyplot as plt  \n",
    "import seaborn as sns\n",
    "color = sns.color_palette()\n",
    "sns.set_style('darkgrid')\n",
    "import warnings\n",
    "warnings.filterwarnings('ignore')"
   ]
  },
  {
   "cell_type": "code",
   "execution_count": 2,
   "metadata": {},
   "outputs": [
    {
     "data": {
      "text/plain": [
       "'C:\\\\Users\\\\anmol\\\\OneDrive\\\\Desktop\\\\E-Learning\\\\M.L\\\\M.L Final'"
      ]
     },
     "execution_count": 2,
     "metadata": {},
     "output_type": "execute_result"
    }
   ],
   "source": [
    "pwd"
   ]
  },
  {
   "cell_type": "code",
   "execution_count": 3,
   "metadata": {},
   "outputs": [
    {
     "data": {
      "text/html": [
       "<div>\n",
       "<style scoped>\n",
       "    .dataframe tbody tr th:only-of-type {\n",
       "        vertical-align: middle;\n",
       "    }\n",
       "\n",
       "    .dataframe tbody tr th {\n",
       "        vertical-align: top;\n",
       "    }\n",
       "\n",
       "    .dataframe thead th {\n",
       "        text-align: right;\n",
       "    }\n",
       "</style>\n",
       "<table border=\"1\" class=\"dataframe\">\n",
       "  <thead>\n",
       "    <tr style=\"text-align: right;\">\n",
       "      <th></th>\n",
       "      <th>Unnamed</th>\n",
       "      <th>id</th>\n",
       "      <th>Gender</th>\n",
       "      <th>Customer Type</th>\n",
       "      <th>Age</th>\n",
       "      <th>Type of Travel</th>\n",
       "      <th>Class</th>\n",
       "      <th>Flight Distance</th>\n",
       "      <th>Inflight wifi service</th>\n",
       "      <th>Departure/Arrival time convenient</th>\n",
       "      <th>...</th>\n",
       "      <th>Inflight entertainment</th>\n",
       "      <th>On-board service</th>\n",
       "      <th>Leg room service</th>\n",
       "      <th>Baggage handling</th>\n",
       "      <th>Checkin service</th>\n",
       "      <th>Inflight service</th>\n",
       "      <th>Cleanliness</th>\n",
       "      <th>Departure Delay in Minutes</th>\n",
       "      <th>Arrival Delay in Minutes</th>\n",
       "      <th>satisfaction</th>\n",
       "    </tr>\n",
       "  </thead>\n",
       "  <tbody>\n",
       "    <tr>\n",
       "      <th>0</th>\n",
       "      <td>0.0</td>\n",
       "      <td>70172</td>\n",
       "      <td>Male</td>\n",
       "      <td>Loyal Customer</td>\n",
       "      <td>13</td>\n",
       "      <td>Personal Travel</td>\n",
       "      <td>Eco Plus</td>\n",
       "      <td>460</td>\n",
       "      <td>3</td>\n",
       "      <td>3.0</td>\n",
       "      <td>...</td>\n",
       "      <td>5</td>\n",
       "      <td>4</td>\n",
       "      <td>3</td>\n",
       "      <td>4</td>\n",
       "      <td>4</td>\n",
       "      <td>5</td>\n",
       "      <td>5</td>\n",
       "      <td>25</td>\n",
       "      <td>18.0</td>\n",
       "      <td>neutral or dissatisfied</td>\n",
       "    </tr>\n",
       "    <tr>\n",
       "      <th>1</th>\n",
       "      <td>NaN</td>\n",
       "      <td>5047</td>\n",
       "      <td>Male</td>\n",
       "      <td>disloyal Customer</td>\n",
       "      <td>25</td>\n",
       "      <td>Business travel</td>\n",
       "      <td>Business</td>\n",
       "      <td>235</td>\n",
       "      <td>3</td>\n",
       "      <td>5.0</td>\n",
       "      <td>...</td>\n",
       "      <td>1</td>\n",
       "      <td>1</td>\n",
       "      <td>5</td>\n",
       "      <td>3</td>\n",
       "      <td>1</td>\n",
       "      <td>4</td>\n",
       "      <td>1</td>\n",
       "      <td>1</td>\n",
       "      <td>6.0</td>\n",
       "      <td>neutral or dissatisfied</td>\n",
       "    </tr>\n",
       "    <tr>\n",
       "      <th>2</th>\n",
       "      <td>NaN</td>\n",
       "      <td>110028</td>\n",
       "      <td>Female</td>\n",
       "      <td>Loyal Customer</td>\n",
       "      <td>26</td>\n",
       "      <td>Business travel</td>\n",
       "      <td>Business</td>\n",
       "      <td>1142</td>\n",
       "      <td>2</td>\n",
       "      <td>2.0</td>\n",
       "      <td>...</td>\n",
       "      <td>5</td>\n",
       "      <td>4</td>\n",
       "      <td>3</td>\n",
       "      <td>4</td>\n",
       "      <td>4</td>\n",
       "      <td>4</td>\n",
       "      <td>5</td>\n",
       "      <td>0</td>\n",
       "      <td>0.0</td>\n",
       "      <td>satisfied</td>\n",
       "    </tr>\n",
       "    <tr>\n",
       "      <th>3</th>\n",
       "      <td>NaN</td>\n",
       "      <td>24026</td>\n",
       "      <td>Female</td>\n",
       "      <td>Loyal Customer</td>\n",
       "      <td>25</td>\n",
       "      <td>Business travel</td>\n",
       "      <td>Business</td>\n",
       "      <td>562</td>\n",
       "      <td>2</td>\n",
       "      <td>2.0</td>\n",
       "      <td>...</td>\n",
       "      <td>2</td>\n",
       "      <td>2</td>\n",
       "      <td>5</td>\n",
       "      <td>3</td>\n",
       "      <td>1</td>\n",
       "      <td>4</td>\n",
       "      <td>2</td>\n",
       "      <td>11</td>\n",
       "      <td>9.0</td>\n",
       "      <td>neutral or dissatisfied</td>\n",
       "    </tr>\n",
       "    <tr>\n",
       "      <th>4</th>\n",
       "      <td>NaN</td>\n",
       "      <td>119299</td>\n",
       "      <td>Male</td>\n",
       "      <td>Loyal Customer</td>\n",
       "      <td>61</td>\n",
       "      <td>Business travel</td>\n",
       "      <td>Business</td>\n",
       "      <td>214</td>\n",
       "      <td>3</td>\n",
       "      <td>3.0</td>\n",
       "      <td>...</td>\n",
       "      <td>3</td>\n",
       "      <td>3</td>\n",
       "      <td>4</td>\n",
       "      <td>4</td>\n",
       "      <td>3</td>\n",
       "      <td>3</td>\n",
       "      <td>3</td>\n",
       "      <td>0</td>\n",
       "      <td>0.0</td>\n",
       "      <td>satisfied</td>\n",
       "    </tr>\n",
       "    <tr>\n",
       "      <th>...</th>\n",
       "      <td>...</td>\n",
       "      <td>...</td>\n",
       "      <td>...</td>\n",
       "      <td>...</td>\n",
       "      <td>...</td>\n",
       "      <td>...</td>\n",
       "      <td>...</td>\n",
       "      <td>...</td>\n",
       "      <td>...</td>\n",
       "      <td>...</td>\n",
       "      <td>...</td>\n",
       "      <td>...</td>\n",
       "      <td>...</td>\n",
       "      <td>...</td>\n",
       "      <td>...</td>\n",
       "      <td>...</td>\n",
       "      <td>...</td>\n",
       "      <td>...</td>\n",
       "      <td>...</td>\n",
       "      <td>...</td>\n",
       "      <td>...</td>\n",
       "    </tr>\n",
       "    <tr>\n",
       "      <th>9995</th>\n",
       "      <td>NaN</td>\n",
       "      <td>124365</td>\n",
       "      <td>Male</td>\n",
       "      <td>Loyal Customer</td>\n",
       "      <td>50</td>\n",
       "      <td>Business travel</td>\n",
       "      <td>Business</td>\n",
       "      <td>3599</td>\n",
       "      <td>3</td>\n",
       "      <td>NaN</td>\n",
       "      <td>...</td>\n",
       "      <td>5</td>\n",
       "      <td>5</td>\n",
       "      <td>5</td>\n",
       "      <td>5</td>\n",
       "      <td>5</td>\n",
       "      <td>5</td>\n",
       "      <td>4</td>\n",
       "      <td>12</td>\n",
       "      <td>24.0</td>\n",
       "      <td>satisfied</td>\n",
       "    </tr>\n",
       "    <tr>\n",
       "      <th>9996</th>\n",
       "      <td>NaN</td>\n",
       "      <td>22044</td>\n",
       "      <td>Male</td>\n",
       "      <td>Loyal Customer</td>\n",
       "      <td>38</td>\n",
       "      <td>Business travel</td>\n",
       "      <td>Business</td>\n",
       "      <td>3873</td>\n",
       "      <td>5</td>\n",
       "      <td>NaN</td>\n",
       "      <td>...</td>\n",
       "      <td>4</td>\n",
       "      <td>4</td>\n",
       "      <td>4</td>\n",
       "      <td>4</td>\n",
       "      <td>3</td>\n",
       "      <td>4</td>\n",
       "      <td>5</td>\n",
       "      <td>0</td>\n",
       "      <td>0.0</td>\n",
       "      <td>satisfied</td>\n",
       "    </tr>\n",
       "    <tr>\n",
       "      <th>9997</th>\n",
       "      <td>NaN</td>\n",
       "      <td>14057</td>\n",
       "      <td>Female</td>\n",
       "      <td>Loyal Customer</td>\n",
       "      <td>39</td>\n",
       "      <td>Business travel</td>\n",
       "      <td>Business</td>\n",
       "      <td>319</td>\n",
       "      <td>4</td>\n",
       "      <td>NaN</td>\n",
       "      <td>...</td>\n",
       "      <td>4</td>\n",
       "      <td>4</td>\n",
       "      <td>4</td>\n",
       "      <td>4</td>\n",
       "      <td>3</td>\n",
       "      <td>4</td>\n",
       "      <td>2</td>\n",
       "      <td>0</td>\n",
       "      <td>0.0</td>\n",
       "      <td>satisfied</td>\n",
       "    </tr>\n",
       "    <tr>\n",
       "      <th>9998</th>\n",
       "      <td>NaN</td>\n",
       "      <td>113848</td>\n",
       "      <td>Male</td>\n",
       "      <td>Loyal Customer</td>\n",
       "      <td>52</td>\n",
       "      <td>Business travel</td>\n",
       "      <td>Business</td>\n",
       "      <td>1363</td>\n",
       "      <td>5</td>\n",
       "      <td>NaN</td>\n",
       "      <td>...</td>\n",
       "      <td>4</td>\n",
       "      <td>4</td>\n",
       "      <td>3</td>\n",
       "      <td>4</td>\n",
       "      <td>5</td>\n",
       "      <td>4</td>\n",
       "      <td>5</td>\n",
       "      <td>1</td>\n",
       "      <td>11.0</td>\n",
       "      <td>satisfied</td>\n",
       "    </tr>\n",
       "    <tr>\n",
       "      <th>9999</th>\n",
       "      <td>NaN</td>\n",
       "      <td>1865</td>\n",
       "      <td>Female</td>\n",
       "      <td>Loyal Customer</td>\n",
       "      <td>41</td>\n",
       "      <td>Business travel</td>\n",
       "      <td>Business</td>\n",
       "      <td>3938</td>\n",
       "      <td>4</td>\n",
       "      <td>NaN</td>\n",
       "      <td>...</td>\n",
       "      <td>5</td>\n",
       "      <td>5</td>\n",
       "      <td>4</td>\n",
       "      <td>5</td>\n",
       "      <td>5</td>\n",
       "      <td>5</td>\n",
       "      <td>4</td>\n",
       "      <td>0</td>\n",
       "      <td>0.0</td>\n",
       "      <td>satisfied</td>\n",
       "    </tr>\n",
       "  </tbody>\n",
       "</table>\n",
       "<p>10000 rows × 25 columns</p>\n",
       "</div>"
      ],
      "text/plain": [
       "      Unnamed      id  Gender      Customer Type  Age   Type of Travel  \\\n",
       "0         0.0   70172    Male     Loyal Customer   13  Personal Travel   \n",
       "1         NaN    5047    Male  disloyal Customer   25  Business travel   \n",
       "2         NaN  110028  Female     Loyal Customer   26  Business travel   \n",
       "3         NaN   24026  Female     Loyal Customer   25  Business travel   \n",
       "4         NaN  119299    Male     Loyal Customer   61  Business travel   \n",
       "...       ...     ...     ...                ...  ...              ...   \n",
       "9995      NaN  124365    Male     Loyal Customer   50  Business travel   \n",
       "9996      NaN   22044    Male     Loyal Customer   38  Business travel   \n",
       "9997      NaN   14057  Female     Loyal Customer   39  Business travel   \n",
       "9998      NaN  113848    Male     Loyal Customer   52  Business travel   \n",
       "9999      NaN    1865  Female     Loyal Customer   41  Business travel   \n",
       "\n",
       "         Class  Flight Distance  Inflight wifi service  \\\n",
       "0     Eco Plus              460                      3   \n",
       "1     Business              235                      3   \n",
       "2     Business             1142                      2   \n",
       "3     Business              562                      2   \n",
       "4     Business              214                      3   \n",
       "...        ...              ...                    ...   \n",
       "9995  Business             3599                      3   \n",
       "9996  Business             3873                      5   \n",
       "9997  Business              319                      4   \n",
       "9998  Business             1363                      5   \n",
       "9999  Business             3938                      4   \n",
       "\n",
       "      Departure/Arrival time convenient  ...  Inflight entertainment  \\\n",
       "0                                   3.0  ...                       5   \n",
       "1                                   5.0  ...                       1   \n",
       "2                                   2.0  ...                       5   \n",
       "3                                   2.0  ...                       2   \n",
       "4                                   3.0  ...                       3   \n",
       "...                                 ...  ...                     ...   \n",
       "9995                                NaN  ...                       5   \n",
       "9996                                NaN  ...                       4   \n",
       "9997                                NaN  ...                       4   \n",
       "9998                                NaN  ...                       4   \n",
       "9999                                NaN  ...                       5   \n",
       "\n",
       "      On-board service  Leg room service  Baggage handling  Checkin service  \\\n",
       "0                    4                 3                 4                4   \n",
       "1                    1                 5                 3                1   \n",
       "2                    4                 3                 4                4   \n",
       "3                    2                 5                 3                1   \n",
       "4                    3                 4                 4                3   \n",
       "...                ...               ...               ...              ...   \n",
       "9995                 5                 5                 5                5   \n",
       "9996                 4                 4                 4                3   \n",
       "9997                 4                 4                 4                3   \n",
       "9998                 4                 3                 4                5   \n",
       "9999                 5                 4                 5                5   \n",
       "\n",
       "      Inflight service  Cleanliness  Departure Delay in Minutes  \\\n",
       "0                    5            5                          25   \n",
       "1                    4            1                           1   \n",
       "2                    4            5                           0   \n",
       "3                    4            2                          11   \n",
       "4                    3            3                           0   \n",
       "...                ...          ...                         ...   \n",
       "9995                 5            4                          12   \n",
       "9996                 4            5                           0   \n",
       "9997                 4            2                           0   \n",
       "9998                 4            5                           1   \n",
       "9999                 5            4                           0   \n",
       "\n",
       "      Arrival Delay in Minutes             satisfaction  \n",
       "0                         18.0  neutral or dissatisfied  \n",
       "1                          6.0  neutral or dissatisfied  \n",
       "2                          0.0                satisfied  \n",
       "3                          9.0  neutral or dissatisfied  \n",
       "4                          0.0                satisfied  \n",
       "...                        ...                      ...  \n",
       "9995                      24.0                satisfied  \n",
       "9996                       0.0                satisfied  \n",
       "9997                       0.0                satisfied  \n",
       "9998                      11.0                satisfied  \n",
       "9999                       0.0                satisfied  \n",
       "\n",
       "[10000 rows x 25 columns]"
      ]
     },
     "execution_count": 3,
     "metadata": {},
     "output_type": "execute_result"
    }
   ],
   "source": [
    "df=pd.read_excel('Airpassenger11.xlsx')\n",
    "df"
   ]
  },
  {
   "cell_type": "code",
   "execution_count": 4,
   "metadata": {},
   "outputs": [
    {
     "data": {
      "text/html": [
       "<div>\n",
       "<style scoped>\n",
       "    .dataframe tbody tr th:only-of-type {\n",
       "        vertical-align: middle;\n",
       "    }\n",
       "\n",
       "    .dataframe tbody tr th {\n",
       "        vertical-align: top;\n",
       "    }\n",
       "\n",
       "    .dataframe thead th {\n",
       "        text-align: right;\n",
       "    }\n",
       "</style>\n",
       "<table border=\"1\" class=\"dataframe\">\n",
       "  <thead>\n",
       "    <tr style=\"text-align: right;\">\n",
       "      <th></th>\n",
       "      <th>Unnamed</th>\n",
       "      <th>id</th>\n",
       "      <th>Gender</th>\n",
       "      <th>Customer Type</th>\n",
       "      <th>Age</th>\n",
       "      <th>Type of Travel</th>\n",
       "      <th>Class</th>\n",
       "      <th>Flight Distance</th>\n",
       "      <th>Inflight wifi service</th>\n",
       "      <th>Departure/Arrival time convenient</th>\n",
       "      <th>...</th>\n",
       "      <th>Inflight entertainment</th>\n",
       "      <th>On-board service</th>\n",
       "      <th>Leg room service</th>\n",
       "      <th>Baggage handling</th>\n",
       "      <th>Checkin service</th>\n",
       "      <th>Inflight service</th>\n",
       "      <th>Cleanliness</th>\n",
       "      <th>Departure Delay in Minutes</th>\n",
       "      <th>Arrival Delay in Minutes</th>\n",
       "      <th>satisfaction</th>\n",
       "    </tr>\n",
       "  </thead>\n",
       "  <tbody>\n",
       "    <tr>\n",
       "      <th>0</th>\n",
       "      <td>0.0</td>\n",
       "      <td>70172</td>\n",
       "      <td>Male</td>\n",
       "      <td>Loyal Customer</td>\n",
       "      <td>13</td>\n",
       "      <td>Personal Travel</td>\n",
       "      <td>Eco Plus</td>\n",
       "      <td>460</td>\n",
       "      <td>3</td>\n",
       "      <td>3.0</td>\n",
       "      <td>...</td>\n",
       "      <td>5</td>\n",
       "      <td>4</td>\n",
       "      <td>3</td>\n",
       "      <td>4</td>\n",
       "      <td>4</td>\n",
       "      <td>5</td>\n",
       "      <td>5</td>\n",
       "      <td>25</td>\n",
       "      <td>18.0</td>\n",
       "      <td>neutral or dissatisfied</td>\n",
       "    </tr>\n",
       "    <tr>\n",
       "      <th>1</th>\n",
       "      <td>NaN</td>\n",
       "      <td>5047</td>\n",
       "      <td>Male</td>\n",
       "      <td>disloyal Customer</td>\n",
       "      <td>25</td>\n",
       "      <td>Business travel</td>\n",
       "      <td>Business</td>\n",
       "      <td>235</td>\n",
       "      <td>3</td>\n",
       "      <td>5.0</td>\n",
       "      <td>...</td>\n",
       "      <td>1</td>\n",
       "      <td>1</td>\n",
       "      <td>5</td>\n",
       "      <td>3</td>\n",
       "      <td>1</td>\n",
       "      <td>4</td>\n",
       "      <td>1</td>\n",
       "      <td>1</td>\n",
       "      <td>6.0</td>\n",
       "      <td>neutral or dissatisfied</td>\n",
       "    </tr>\n",
       "    <tr>\n",
       "      <th>2</th>\n",
       "      <td>NaN</td>\n",
       "      <td>110028</td>\n",
       "      <td>Female</td>\n",
       "      <td>Loyal Customer</td>\n",
       "      <td>26</td>\n",
       "      <td>Business travel</td>\n",
       "      <td>Business</td>\n",
       "      <td>1142</td>\n",
       "      <td>2</td>\n",
       "      <td>2.0</td>\n",
       "      <td>...</td>\n",
       "      <td>5</td>\n",
       "      <td>4</td>\n",
       "      <td>3</td>\n",
       "      <td>4</td>\n",
       "      <td>4</td>\n",
       "      <td>4</td>\n",
       "      <td>5</td>\n",
       "      <td>0</td>\n",
       "      <td>0.0</td>\n",
       "      <td>satisfied</td>\n",
       "    </tr>\n",
       "    <tr>\n",
       "      <th>3</th>\n",
       "      <td>NaN</td>\n",
       "      <td>24026</td>\n",
       "      <td>Female</td>\n",
       "      <td>Loyal Customer</td>\n",
       "      <td>25</td>\n",
       "      <td>Business travel</td>\n",
       "      <td>Business</td>\n",
       "      <td>562</td>\n",
       "      <td>2</td>\n",
       "      <td>2.0</td>\n",
       "      <td>...</td>\n",
       "      <td>2</td>\n",
       "      <td>2</td>\n",
       "      <td>5</td>\n",
       "      <td>3</td>\n",
       "      <td>1</td>\n",
       "      <td>4</td>\n",
       "      <td>2</td>\n",
       "      <td>11</td>\n",
       "      <td>9.0</td>\n",
       "      <td>neutral or dissatisfied</td>\n",
       "    </tr>\n",
       "    <tr>\n",
       "      <th>4</th>\n",
       "      <td>NaN</td>\n",
       "      <td>119299</td>\n",
       "      <td>Male</td>\n",
       "      <td>Loyal Customer</td>\n",
       "      <td>61</td>\n",
       "      <td>Business travel</td>\n",
       "      <td>Business</td>\n",
       "      <td>214</td>\n",
       "      <td>3</td>\n",
       "      <td>3.0</td>\n",
       "      <td>...</td>\n",
       "      <td>3</td>\n",
       "      <td>3</td>\n",
       "      <td>4</td>\n",
       "      <td>4</td>\n",
       "      <td>3</td>\n",
       "      <td>3</td>\n",
       "      <td>3</td>\n",
       "      <td>0</td>\n",
       "      <td>0.0</td>\n",
       "      <td>satisfied</td>\n",
       "    </tr>\n",
       "    <tr>\n",
       "      <th>...</th>\n",
       "      <td>...</td>\n",
       "      <td>...</td>\n",
       "      <td>...</td>\n",
       "      <td>...</td>\n",
       "      <td>...</td>\n",
       "      <td>...</td>\n",
       "      <td>...</td>\n",
       "      <td>...</td>\n",
       "      <td>...</td>\n",
       "      <td>...</td>\n",
       "      <td>...</td>\n",
       "      <td>...</td>\n",
       "      <td>...</td>\n",
       "      <td>...</td>\n",
       "      <td>...</td>\n",
       "      <td>...</td>\n",
       "      <td>...</td>\n",
       "      <td>...</td>\n",
       "      <td>...</td>\n",
       "      <td>...</td>\n",
       "      <td>...</td>\n",
       "    </tr>\n",
       "    <tr>\n",
       "      <th>9995</th>\n",
       "      <td>NaN</td>\n",
       "      <td>124365</td>\n",
       "      <td>Male</td>\n",
       "      <td>Loyal Customer</td>\n",
       "      <td>50</td>\n",
       "      <td>Business travel</td>\n",
       "      <td>Business</td>\n",
       "      <td>3599</td>\n",
       "      <td>3</td>\n",
       "      <td>NaN</td>\n",
       "      <td>...</td>\n",
       "      <td>5</td>\n",
       "      <td>5</td>\n",
       "      <td>5</td>\n",
       "      <td>5</td>\n",
       "      <td>5</td>\n",
       "      <td>5</td>\n",
       "      <td>4</td>\n",
       "      <td>12</td>\n",
       "      <td>24.0</td>\n",
       "      <td>satisfied</td>\n",
       "    </tr>\n",
       "    <tr>\n",
       "      <th>9996</th>\n",
       "      <td>NaN</td>\n",
       "      <td>22044</td>\n",
       "      <td>Male</td>\n",
       "      <td>Loyal Customer</td>\n",
       "      <td>38</td>\n",
       "      <td>Business travel</td>\n",
       "      <td>Business</td>\n",
       "      <td>3873</td>\n",
       "      <td>5</td>\n",
       "      <td>NaN</td>\n",
       "      <td>...</td>\n",
       "      <td>4</td>\n",
       "      <td>4</td>\n",
       "      <td>4</td>\n",
       "      <td>4</td>\n",
       "      <td>3</td>\n",
       "      <td>4</td>\n",
       "      <td>5</td>\n",
       "      <td>0</td>\n",
       "      <td>0.0</td>\n",
       "      <td>satisfied</td>\n",
       "    </tr>\n",
       "    <tr>\n",
       "      <th>9997</th>\n",
       "      <td>NaN</td>\n",
       "      <td>14057</td>\n",
       "      <td>Female</td>\n",
       "      <td>Loyal Customer</td>\n",
       "      <td>39</td>\n",
       "      <td>Business travel</td>\n",
       "      <td>Business</td>\n",
       "      <td>319</td>\n",
       "      <td>4</td>\n",
       "      <td>NaN</td>\n",
       "      <td>...</td>\n",
       "      <td>4</td>\n",
       "      <td>4</td>\n",
       "      <td>4</td>\n",
       "      <td>4</td>\n",
       "      <td>3</td>\n",
       "      <td>4</td>\n",
       "      <td>2</td>\n",
       "      <td>0</td>\n",
       "      <td>0.0</td>\n",
       "      <td>satisfied</td>\n",
       "    </tr>\n",
       "    <tr>\n",
       "      <th>9998</th>\n",
       "      <td>NaN</td>\n",
       "      <td>113848</td>\n",
       "      <td>Male</td>\n",
       "      <td>Loyal Customer</td>\n",
       "      <td>52</td>\n",
       "      <td>Business travel</td>\n",
       "      <td>Business</td>\n",
       "      <td>1363</td>\n",
       "      <td>5</td>\n",
       "      <td>NaN</td>\n",
       "      <td>...</td>\n",
       "      <td>4</td>\n",
       "      <td>4</td>\n",
       "      <td>3</td>\n",
       "      <td>4</td>\n",
       "      <td>5</td>\n",
       "      <td>4</td>\n",
       "      <td>5</td>\n",
       "      <td>1</td>\n",
       "      <td>11.0</td>\n",
       "      <td>satisfied</td>\n",
       "    </tr>\n",
       "    <tr>\n",
       "      <th>9999</th>\n",
       "      <td>NaN</td>\n",
       "      <td>1865</td>\n",
       "      <td>Female</td>\n",
       "      <td>Loyal Customer</td>\n",
       "      <td>41</td>\n",
       "      <td>Business travel</td>\n",
       "      <td>Business</td>\n",
       "      <td>3938</td>\n",
       "      <td>4</td>\n",
       "      <td>NaN</td>\n",
       "      <td>...</td>\n",
       "      <td>5</td>\n",
       "      <td>5</td>\n",
       "      <td>4</td>\n",
       "      <td>5</td>\n",
       "      <td>5</td>\n",
       "      <td>5</td>\n",
       "      <td>4</td>\n",
       "      <td>0</td>\n",
       "      <td>0.0</td>\n",
       "      <td>satisfied</td>\n",
       "    </tr>\n",
       "  </tbody>\n",
       "</table>\n",
       "<p>10000 rows × 25 columns</p>\n",
       "</div>"
      ],
      "text/plain": [
       "      Unnamed      id  Gender      Customer Type  Age   Type of Travel  \\\n",
       "0         0.0   70172    Male     Loyal Customer   13  Personal Travel   \n",
       "1         NaN    5047    Male  disloyal Customer   25  Business travel   \n",
       "2         NaN  110028  Female     Loyal Customer   26  Business travel   \n",
       "3         NaN   24026  Female     Loyal Customer   25  Business travel   \n",
       "4         NaN  119299    Male     Loyal Customer   61  Business travel   \n",
       "...       ...     ...     ...                ...  ...              ...   \n",
       "9995      NaN  124365    Male     Loyal Customer   50  Business travel   \n",
       "9996      NaN   22044    Male     Loyal Customer   38  Business travel   \n",
       "9997      NaN   14057  Female     Loyal Customer   39  Business travel   \n",
       "9998      NaN  113848    Male     Loyal Customer   52  Business travel   \n",
       "9999      NaN    1865  Female     Loyal Customer   41  Business travel   \n",
       "\n",
       "         Class  Flight Distance  Inflight wifi service  \\\n",
       "0     Eco Plus              460                      3   \n",
       "1     Business              235                      3   \n",
       "2     Business             1142                      2   \n",
       "3     Business              562                      2   \n",
       "4     Business              214                      3   \n",
       "...        ...              ...                    ...   \n",
       "9995  Business             3599                      3   \n",
       "9996  Business             3873                      5   \n",
       "9997  Business              319                      4   \n",
       "9998  Business             1363                      5   \n",
       "9999  Business             3938                      4   \n",
       "\n",
       "      Departure/Arrival time convenient  ...  Inflight entertainment  \\\n",
       "0                                   3.0  ...                       5   \n",
       "1                                   5.0  ...                       1   \n",
       "2                                   2.0  ...                       5   \n",
       "3                                   2.0  ...                       2   \n",
       "4                                   3.0  ...                       3   \n",
       "...                                 ...  ...                     ...   \n",
       "9995                                NaN  ...                       5   \n",
       "9996                                NaN  ...                       4   \n",
       "9997                                NaN  ...                       4   \n",
       "9998                                NaN  ...                       4   \n",
       "9999                                NaN  ...                       5   \n",
       "\n",
       "      On-board service  Leg room service  Baggage handling  Checkin service  \\\n",
       "0                    4                 3                 4                4   \n",
       "1                    1                 5                 3                1   \n",
       "2                    4                 3                 4                4   \n",
       "3                    2                 5                 3                1   \n",
       "4                    3                 4                 4                3   \n",
       "...                ...               ...               ...              ...   \n",
       "9995                 5                 5                 5                5   \n",
       "9996                 4                 4                 4                3   \n",
       "9997                 4                 4                 4                3   \n",
       "9998                 4                 3                 4                5   \n",
       "9999                 5                 4                 5                5   \n",
       "\n",
       "      Inflight service  Cleanliness  Departure Delay in Minutes  \\\n",
       "0                    5            5                          25   \n",
       "1                    4            1                           1   \n",
       "2                    4            5                           0   \n",
       "3                    4            2                          11   \n",
       "4                    3            3                           0   \n",
       "...                ...          ...                         ...   \n",
       "9995                 5            4                          12   \n",
       "9996                 4            5                           0   \n",
       "9997                 4            2                           0   \n",
       "9998                 4            5                           1   \n",
       "9999                 5            4                           0   \n",
       "\n",
       "      Arrival Delay in Minutes             satisfaction  \n",
       "0                         18.0  neutral or dissatisfied  \n",
       "1                          6.0  neutral or dissatisfied  \n",
       "2                          0.0                satisfied  \n",
       "3                          9.0  neutral or dissatisfied  \n",
       "4                          0.0                satisfied  \n",
       "...                        ...                      ...  \n",
       "9995                      24.0                satisfied  \n",
       "9996                       0.0                satisfied  \n",
       "9997                       0.0                satisfied  \n",
       "9998                      11.0                satisfied  \n",
       "9999                       0.0                satisfied  \n",
       "\n",
       "[10000 rows x 25 columns]"
      ]
     },
     "execution_count": 4,
     "metadata": {},
     "output_type": "execute_result"
    }
   ],
   "source": [
    "air=pd.DataFrame(df)\n",
    "air"
   ]
  },
  {
   "cell_type": "markdown",
   "metadata": {},
   "source": [
    "### Percentage of missing values in each column"
   ]
  },
  {
   "cell_type": "code",
   "execution_count": 5,
   "metadata": {},
   "outputs": [
    {
     "data": {
      "text/html": [
       "<div>\n",
       "<style scoped>\n",
       "    .dataframe tbody tr th:only-of-type {\n",
       "        vertical-align: middle;\n",
       "    }\n",
       "\n",
       "    .dataframe tbody tr th {\n",
       "        vertical-align: top;\n",
       "    }\n",
       "\n",
       "    .dataframe thead th {\n",
       "        text-align: right;\n",
       "    }\n",
       "</style>\n",
       "<table border=\"1\" class=\"dataframe\">\n",
       "  <thead>\n",
       "    <tr style=\"text-align: right;\">\n",
       "      <th></th>\n",
       "      <th>Total</th>\n",
       "      <th>Percent</th>\n",
       "    </tr>\n",
       "  </thead>\n",
       "  <tbody>\n",
       "    <tr>\n",
       "      <th>Gate location</th>\n",
       "      <td>9890</td>\n",
       "      <td>0.9890</td>\n",
       "    </tr>\n",
       "    <tr>\n",
       "      <th>Unnamed</th>\n",
       "      <td>9853</td>\n",
       "      <td>0.9853</td>\n",
       "    </tr>\n",
       "    <tr>\n",
       "      <th>Departure/Arrival time convenient</th>\n",
       "      <td>9736</td>\n",
       "      <td>0.9736</td>\n",
       "    </tr>\n",
       "    <tr>\n",
       "      <th>Gender</th>\n",
       "      <td>69</td>\n",
       "      <td>0.0069</td>\n",
       "    </tr>\n",
       "    <tr>\n",
       "      <th>Arrival Delay in Minutes</th>\n",
       "      <td>26</td>\n",
       "      <td>0.0026</td>\n",
       "    </tr>\n",
       "    <tr>\n",
       "      <th>id</th>\n",
       "      <td>0</td>\n",
       "      <td>0.0000</td>\n",
       "    </tr>\n",
       "    <tr>\n",
       "      <th>Customer Type</th>\n",
       "      <td>0</td>\n",
       "      <td>0.0000</td>\n",
       "    </tr>\n",
       "    <tr>\n",
       "      <th>Age</th>\n",
       "      <td>0</td>\n",
       "      <td>0.0000</td>\n",
       "    </tr>\n",
       "    <tr>\n",
       "      <th>Type of Travel</th>\n",
       "      <td>0</td>\n",
       "      <td>0.0000</td>\n",
       "    </tr>\n",
       "    <tr>\n",
       "      <th>Class</th>\n",
       "      <td>0</td>\n",
       "      <td>0.0000</td>\n",
       "    </tr>\n",
       "    <tr>\n",
       "      <th>Flight Distance</th>\n",
       "      <td>0</td>\n",
       "      <td>0.0000</td>\n",
       "    </tr>\n",
       "    <tr>\n",
       "      <th>Inflight wifi service</th>\n",
       "      <td>0</td>\n",
       "      <td>0.0000</td>\n",
       "    </tr>\n",
       "    <tr>\n",
       "      <th>Ease of Online booking</th>\n",
       "      <td>0</td>\n",
       "      <td>0.0000</td>\n",
       "    </tr>\n",
       "    <tr>\n",
       "      <th>satisfaction</th>\n",
       "      <td>0</td>\n",
       "      <td>0.0000</td>\n",
       "    </tr>\n",
       "    <tr>\n",
       "      <th>Online boarding</th>\n",
       "      <td>0</td>\n",
       "      <td>0.0000</td>\n",
       "    </tr>\n",
       "    <tr>\n",
       "      <th>Seat comfort</th>\n",
       "      <td>0</td>\n",
       "      <td>0.0000</td>\n",
       "    </tr>\n",
       "    <tr>\n",
       "      <th>Inflight entertainment</th>\n",
       "      <td>0</td>\n",
       "      <td>0.0000</td>\n",
       "    </tr>\n",
       "    <tr>\n",
       "      <th>On-board service</th>\n",
       "      <td>0</td>\n",
       "      <td>0.0000</td>\n",
       "    </tr>\n",
       "    <tr>\n",
       "      <th>Leg room service</th>\n",
       "      <td>0</td>\n",
       "      <td>0.0000</td>\n",
       "    </tr>\n",
       "    <tr>\n",
       "      <th>Baggage handling</th>\n",
       "      <td>0</td>\n",
       "      <td>0.0000</td>\n",
       "    </tr>\n",
       "  </tbody>\n",
       "</table>\n",
       "</div>"
      ],
      "text/plain": [
       "                                   Total  Percent\n",
       "Gate location                       9890   0.9890\n",
       "Unnamed                             9853   0.9853\n",
       "Departure/Arrival time convenient   9736   0.9736\n",
       "Gender                                69   0.0069\n",
       "Arrival Delay in Minutes              26   0.0026\n",
       "id                                     0   0.0000\n",
       "Customer Type                          0   0.0000\n",
       "Age                                    0   0.0000\n",
       "Type of Travel                         0   0.0000\n",
       "Class                                  0   0.0000\n",
       "Flight Distance                        0   0.0000\n",
       "Inflight wifi service                  0   0.0000\n",
       "Ease of Online booking                 0   0.0000\n",
       "satisfaction                           0   0.0000\n",
       "Online boarding                        0   0.0000\n",
       "Seat comfort                           0   0.0000\n",
       "Inflight entertainment                 0   0.0000\n",
       "On-board service                       0   0.0000\n",
       "Leg room service                       0   0.0000\n",
       "Baggage handling                       0   0.0000"
      ]
     },
     "execution_count": 5,
     "metadata": {},
     "output_type": "execute_result"
    }
   ],
   "source": [
    "total = air.isnull().sum().sort_values(ascending=False)\n",
    "percent = (air.isnull().sum()/air.isnull().count()).sort_values(ascending=False)\n",
    "missing_data = pd.concat([total, percent], axis=1, keys=['Total', 'Percent'])\n",
    "missing_data.head(20)"
   ]
  },
  {
   "cell_type": "markdown",
   "metadata": {},
   "source": [
    " Directly dropped all those variables who were having more than 20% of null values!!"
   ]
  },
  {
   "cell_type": "code",
   "execution_count": 6,
   "metadata": {},
   "outputs": [],
   "source": [
    "air=air.drop(columns=['Gate location','Unnamed','Departure/Arrival time convenient'])"
   ]
  },
  {
   "cell_type": "code",
   "execution_count": 7,
   "metadata": {},
   "outputs": [],
   "source": [
    "air=air.drop(columns=['id'])"
   ]
  },
  {
   "cell_type": "markdown",
   "metadata": {},
   "source": [
    "### Imputing null values"
   ]
  },
  {
   "cell_type": "code",
   "execution_count": 8,
   "metadata": {},
   "outputs": [],
   "source": [
    "air['Gender'] = air['Gender'].fillna(air['Gender'].mode()[0])"
   ]
  },
  {
   "cell_type": "code",
   "execution_count": 9,
   "metadata": {},
   "outputs": [
    {
     "data": {
      "text/plain": [
       "count    9974.000000\n",
       "mean       15.242130\n",
       "std        38.810195\n",
       "min         0.000000\n",
       "25%         0.000000\n",
       "50%         0.000000\n",
       "75%        13.000000\n",
       "max      1280.000000\n",
       "Name: Arrival Delay in Minutes, dtype: float64"
      ]
     },
     "execution_count": 9,
     "metadata": {},
     "output_type": "execute_result"
    }
   ],
   "source": [
    "air['Arrival Delay in Minutes'].describe()\n"
   ]
  },
  {
   "cell_type": "code",
   "execution_count": 10,
   "metadata": {},
   "outputs": [],
   "source": [
    "air['Arrival Delay in Minutes'] = air['Arrival Delay in Minutes'].fillna(air['Arrival Delay in Minutes'].mean())"
   ]
  },
  {
   "cell_type": "code",
   "execution_count": 11,
   "metadata": {},
   "outputs": [
    {
     "data": {
      "text/plain": [
       "Gender                        0\n",
       "Customer Type                 0\n",
       "Age                           0\n",
       "Type of Travel                0\n",
       "Class                         0\n",
       "Flight Distance               0\n",
       "Inflight wifi service         0\n",
       "Ease of Online booking        0\n",
       "Food and drink                0\n",
       "Online boarding               0\n",
       "Seat comfort                  0\n",
       "Inflight entertainment        0\n",
       "On-board service              0\n",
       "Leg room service              0\n",
       "Baggage handling              0\n",
       "Checkin service               0\n",
       "Inflight service              0\n",
       "Cleanliness                   0\n",
       "Departure Delay in Minutes    0\n",
       "Arrival Delay in Minutes      0\n",
       "satisfaction                  0\n",
       "dtype: int64"
      ]
     },
     "execution_count": 11,
     "metadata": {},
     "output_type": "execute_result"
    }
   ],
   "source": [
    "air.isnull().sum()"
   ]
  },
  {
   "cell_type": "code",
   "execution_count": 12,
   "metadata": {},
   "outputs": [
    {
     "data": {
      "text/plain": [
       "<matplotlib.axes._subplots.AxesSubplot at 0x212df27af48>"
      ]
     },
     "execution_count": 12,
     "metadata": {},
     "output_type": "execute_result"
    },
    {
     "data": {
      "image/png": "[encoded data removed]",
      "text/plain": [
       "<Figure size 1800x1440 with 2 Axes>"
      ]
     },
     "metadata": {},
     "output_type": "display_data"
    }
   ],
   "source": [
    "corr = air.corr()\n",
    "plt.subplots(figsize=(25,20))\n",
    "sns.heatmap(corr, vmax=0.9,annot =True, square=True)"
   ]
  },
  {
   "cell_type": "code",
   "execution_count": 13,
   "metadata": {},
   "outputs": [
    {
     "data": {
      "text/plain": [
       "array(['neutral or dissatisfied', 'satisfied'], dtype=object)"
      ]
     },
     "execution_count": 13,
     "metadata": {},
     "output_type": "execute_result"
    }
   ],
   "source": [
    "air['satisfaction'].unique()"
   ]
  },
  {
   "cell_type": "code",
   "execution_count": 14,
   "metadata": {},
   "outputs": [],
   "source": [
    "satiscation_map = {'neutral or dissatisfied': 0, 'satisfied': 1}\n",
    "air['satisfaction'] = air['satisfaction'].map(satiscation_map)"
   ]
  },
  {
   "cell_type": "markdown",
   "metadata": {},
   "source": [
    "## EDA"
   ]
  },
  {
   "cell_type": "code",
   "execution_count": 15,
   "metadata": {},
   "outputs": [
    {
     "data": {
      "image/png": "[encoded data removed]",
      "text/plain": [
       "<Figure size 432x288 with 1 Axes>"
      ]
     },
     "metadata": {},
     "output_type": "display_data"
    }
   ],
   "source": [
    "ax = sns.boxplot(x='Inflight wifi service',y=\"Flight Distance\",hue='satisfaction', data=air)"
   ]
  },
  {
   "cell_type": "code",
   "execution_count": 16,
   "metadata": {},
   "outputs": [
    {
     "data": {
      "image/png": "[encoded data removed]",
      "text/plain": [
       "<Figure size 360x180 with 2 Axes>"
      ]
     },
     "metadata": {},
     "output_type": "display_data"
    },
    {
     "data": {
      "image/png": "[encoded data removed]",
      "text/plain": [
       "<Figure size 360x180 with 2 Axes>"
      ]
     },
     "metadata": {},
     "output_type": "display_data"
    }
   ],
   "source": [
    "import seaborn as sns\n",
    "with sns.axes_style(style='ticks'):\n",
    "    g = sns.catplot(\"satisfaction\", col=\"Gender\", col_wrap=2, data=air, kind=\"count\", height=2.5, aspect=1.0)  \n",
    "    g = sns.catplot(\"satisfaction\", col=\"Customer Type\", col_wrap=2, data=air, kind=\"count\", height=2.5, aspect=1.0)"
   ]
  },
  {
   "cell_type": "code",
   "execution_count": 17,
   "metadata": {},
   "outputs": [
    {
     "data": {
      "image/png": "[encoded data removed]",
      "text/plain": [
       "<Figure size 836.475x324 with 3 Axes>"
      ]
     },
     "metadata": {},
     "output_type": "display_data"
    }
   ],
   "source": [
    "with sns.axes_style('white'):\n",
    "    g = sns.catplot(x=\"Flight Distance\", y=\"Type of Travel\", hue=\"satisfaction\", col=\"Class\", data=air, kind=\"bar\", height=4.5, aspect=.8)"
   ]
  },
  {
   "cell_type": "code",
   "execution_count": 18,
   "metadata": {},
   "outputs": [
    {
     "data": {
      "image/png": "[encoded data removed]",
      "text/plain": [
       "<Figure size 576x504 with 1 Axes>"
      ]
     },
     "metadata": {},
     "output_type": "display_data"
    }
   ],
   "source": [
    "#Dependent Variable Analysis\n",
    "sns.set_style(\"white\")\n",
    "sns.set_color_codes(palette='deep')\n",
    "f, ax = plt.subplots(figsize=(8, 7))\n",
    "#Check the new distribution \n",
    "sns.distplot(air['satisfaction'], color=\"b\");\n",
    "ax.xaxis.grid(False)\n",
    "ax.set(ylabel=\"Frequency\")\n",
    "ax.set(xlabel=\"satisfaction\")\n",
    "ax.set(title=\"satisfaction distribution\")\n",
    "sns.despine(trim=True, left=True)\n",
    "plt.show()"
   ]
  },
  {
   "cell_type": "code",
   "execution_count": 19,
   "metadata": {},
   "outputs": [
    {
     "data": {
      "text/html": [
       "<div>\n",
       "<style scoped>\n",
       "    .dataframe tbody tr th:only-of-type {\n",
       "        vertical-align: middle;\n",
       "    }\n",
       "\n",
       "    .dataframe tbody tr th {\n",
       "        vertical-align: top;\n",
       "    }\n",
       "\n",
       "    .dataframe thead th {\n",
       "        text-align: right;\n",
       "    }\n",
       "</style>\n",
       "<table border=\"1\" class=\"dataframe\">\n",
       "  <thead>\n",
       "    <tr style=\"text-align: right;\">\n",
       "      <th></th>\n",
       "      <th>Gender</th>\n",
       "      <th>Customer Type</th>\n",
       "      <th>Age</th>\n",
       "      <th>Type of Travel</th>\n",
       "      <th>Class</th>\n",
       "      <th>Flight Distance</th>\n",
       "      <th>Inflight wifi service</th>\n",
       "      <th>Ease of Online booking</th>\n",
       "      <th>Food and drink</th>\n",
       "      <th>Online boarding</th>\n",
       "      <th>...</th>\n",
       "      <th>Inflight entertainment</th>\n",
       "      <th>On-board service</th>\n",
       "      <th>Leg room service</th>\n",
       "      <th>Baggage handling</th>\n",
       "      <th>Checkin service</th>\n",
       "      <th>Inflight service</th>\n",
       "      <th>Cleanliness</th>\n",
       "      <th>Departure Delay in Minutes</th>\n",
       "      <th>Arrival Delay in Minutes</th>\n",
       "      <th>satisfaction</th>\n",
       "    </tr>\n",
       "  </thead>\n",
       "  <tbody>\n",
       "    <tr>\n",
       "      <th>0</th>\n",
       "      <td>Male</td>\n",
       "      <td>Loyal Customer</td>\n",
       "      <td>13</td>\n",
       "      <td>Personal Travel</td>\n",
       "      <td>Eco Plus</td>\n",
       "      <td>460</td>\n",
       "      <td>3</td>\n",
       "      <td>3</td>\n",
       "      <td>5</td>\n",
       "      <td>3</td>\n",
       "      <td>...</td>\n",
       "      <td>5</td>\n",
       "      <td>4</td>\n",
       "      <td>3</td>\n",
       "      <td>4</td>\n",
       "      <td>4</td>\n",
       "      <td>5</td>\n",
       "      <td>5</td>\n",
       "      <td>25</td>\n",
       "      <td>18.0</td>\n",
       "      <td>0</td>\n",
       "    </tr>\n",
       "    <tr>\n",
       "      <th>1</th>\n",
       "      <td>Male</td>\n",
       "      <td>disloyal Customer</td>\n",
       "      <td>25</td>\n",
       "      <td>Business travel</td>\n",
       "      <td>Business</td>\n",
       "      <td>235</td>\n",
       "      <td>3</td>\n",
       "      <td>3</td>\n",
       "      <td>1</td>\n",
       "      <td>3</td>\n",
       "      <td>...</td>\n",
       "      <td>1</td>\n",
       "      <td>1</td>\n",
       "      <td>5</td>\n",
       "      <td>3</td>\n",
       "      <td>1</td>\n",
       "      <td>4</td>\n",
       "      <td>1</td>\n",
       "      <td>1</td>\n",
       "      <td>6.0</td>\n",
       "      <td>0</td>\n",
       "    </tr>\n",
       "    <tr>\n",
       "      <th>2</th>\n",
       "      <td>Female</td>\n",
       "      <td>Loyal Customer</td>\n",
       "      <td>26</td>\n",
       "      <td>Business travel</td>\n",
       "      <td>Business</td>\n",
       "      <td>1142</td>\n",
       "      <td>2</td>\n",
       "      <td>2</td>\n",
       "      <td>5</td>\n",
       "      <td>5</td>\n",
       "      <td>...</td>\n",
       "      <td>5</td>\n",
       "      <td>4</td>\n",
       "      <td>3</td>\n",
       "      <td>4</td>\n",
       "      <td>4</td>\n",
       "      <td>4</td>\n",
       "      <td>5</td>\n",
       "      <td>0</td>\n",
       "      <td>0.0</td>\n",
       "      <td>1</td>\n",
       "    </tr>\n",
       "    <tr>\n",
       "      <th>3</th>\n",
       "      <td>Female</td>\n",
       "      <td>Loyal Customer</td>\n",
       "      <td>25</td>\n",
       "      <td>Business travel</td>\n",
       "      <td>Business</td>\n",
       "      <td>562</td>\n",
       "      <td>2</td>\n",
       "      <td>5</td>\n",
       "      <td>2</td>\n",
       "      <td>2</td>\n",
       "      <td>...</td>\n",
       "      <td>2</td>\n",
       "      <td>2</td>\n",
       "      <td>5</td>\n",
       "      <td>3</td>\n",
       "      <td>1</td>\n",
       "      <td>4</td>\n",
       "      <td>2</td>\n",
       "      <td>11</td>\n",
       "      <td>9.0</td>\n",
       "      <td>0</td>\n",
       "    </tr>\n",
       "    <tr>\n",
       "      <th>4</th>\n",
       "      <td>Male</td>\n",
       "      <td>Loyal Customer</td>\n",
       "      <td>61</td>\n",
       "      <td>Business travel</td>\n",
       "      <td>Business</td>\n",
       "      <td>214</td>\n",
       "      <td>3</td>\n",
       "      <td>3</td>\n",
       "      <td>4</td>\n",
       "      <td>5</td>\n",
       "      <td>...</td>\n",
       "      <td>3</td>\n",
       "      <td>3</td>\n",
       "      <td>4</td>\n",
       "      <td>4</td>\n",
       "      <td>3</td>\n",
       "      <td>3</td>\n",
       "      <td>3</td>\n",
       "      <td>0</td>\n",
       "      <td>0.0</td>\n",
       "      <td>1</td>\n",
       "    </tr>\n",
       "  </tbody>\n",
       "</table>\n",
       "<p>5 rows × 21 columns</p>\n",
       "</div>"
      ],
      "text/plain": [
       "   Gender      Customer Type  Age   Type of Travel     Class  Flight Distance  \\\n",
       "0    Male     Loyal Customer   13  Personal Travel  Eco Plus              460   \n",
       "1    Male  disloyal Customer   25  Business travel  Business              235   \n",
       "2  Female     Loyal Customer   26  Business travel  Business             1142   \n",
       "3  Female     Loyal Customer   25  Business travel  Business              562   \n",
       "4    Male     Loyal Customer   61  Business travel  Business              214   \n",
       "\n",
       "   Inflight wifi service  Ease of Online booking  Food and drink  \\\n",
       "0                      3                       3               5   \n",
       "1                      3                       3               1   \n",
       "2                      2                       2               5   \n",
       "3                      2                       5               2   \n",
       "4                      3                       3               4   \n",
       "\n",
       "   Online boarding  ...  Inflight entertainment  On-board service  \\\n",
       "0                3  ...                       5                 4   \n",
       "1                3  ...                       1                 1   \n",
       "2                5  ...                       5                 4   \n",
       "3                2  ...                       2                 2   \n",
       "4                5  ...                       3                 3   \n",
       "\n",
       "   Leg room service  Baggage handling  Checkin service  Inflight service  \\\n",
       "0                 3                 4                4                 5   \n",
       "1                 5                 3                1                 4   \n",
       "2                 3                 4                4                 4   \n",
       "3                 5                 3                1                 4   \n",
       "4                 4                 4                3                 3   \n",
       "\n",
       "   Cleanliness  Departure Delay in Minutes  Arrival Delay in Minutes  \\\n",
       "0            5                          25                      18.0   \n",
       "1            1                           1                       6.0   \n",
       "2            5                           0                       0.0   \n",
       "3            2                          11                       9.0   \n",
       "4            3                           0                       0.0   \n",
       "\n",
       "   satisfaction  \n",
       "0             0  \n",
       "1             0  \n",
       "2             1  \n",
       "3             0  \n",
       "4             1  \n",
       "\n",
       "[5 rows x 21 columns]"
      ]
     },
     "execution_count": 19,
     "metadata": {},
     "output_type": "execute_result"
    }
   ],
   "source": [
    "air.head()"
   ]
  },
  {
   "cell_type": "code",
   "execution_count": 20,
   "metadata": {},
   "outputs": [
    {
     "data": {
      "text/plain": [
       "array(['Loyal Customer', 'disloyal Customer'], dtype=object)"
      ]
     },
     "execution_count": 20,
     "metadata": {},
     "output_type": "execute_result"
    }
   ],
   "source": [
    "air['Customer Type'].unique()"
   ]
  },
  {
   "cell_type": "code",
   "execution_count": 21,
   "metadata": {},
   "outputs": [
    {
     "data": {
      "text/plain": [
       "array(['Personal Travel', 'Business travel'], dtype=object)"
      ]
     },
     "execution_count": 21,
     "metadata": {},
     "output_type": "execute_result"
    }
   ],
   "source": [
    "air['Type of Travel'].unique()"
   ]
  },
  {
   "cell_type": "code",
   "execution_count": 22,
   "metadata": {},
   "outputs": [
    {
     "data": {
      "text/plain": [
       "array(['Eco Plus', 'Business', 'Eco'], dtype=object)"
      ]
     },
     "execution_count": 22,
     "metadata": {},
     "output_type": "execute_result"
    }
   ],
   "source": [
    "air['Class'].unique()"
   ]
  },
  {
   "cell_type": "markdown",
   "metadata": {},
   "source": [
    "## Label Encoding"
   ]
  },
  {
   "cell_type": "code",
   "execution_count": 23,
   "metadata": {},
   "outputs": [],
   "source": [
    "from sklearn.preprocessing import LabelEncoder\n",
    "cols = ('Customer Type','Type of Travel','Class','Gender')\n",
    "#label encoding\n",
    "for c in cols:\n",
    "    lbl = LabelEncoder() \n",
    "    lbl.fit(list(air[c].values)) \n",
    "    air[c] = lbl.transform(list(air[c].values))\n"
   ]
  },
  {
   "cell_type": "code",
   "execution_count": 24,
   "metadata": {},
   "outputs": [
    {
     "data": {
      "text/plain": [
       "satisfaction                  1.000000\n",
       "Online boarding               0.497393\n",
       "Inflight entertainment        0.412538\n",
       "Seat comfort                  0.352683\n",
       "Leg room service              0.327252\n",
       "On-board service              0.324954\n",
       "Cleanliness                   0.310574\n",
       "Flight Distance               0.297468\n",
       "Inflight wifi service         0.282101\n",
       "Baggage handling              0.262615\n",
       "Inflight service              0.253194\n",
       "Food and drink                0.230136\n",
       "Checkin service               0.218767\n",
       "Ease of Online booking        0.161929\n",
       "Age                           0.128828\n",
       "Gender                        0.013107\n",
       "Departure Delay in Minutes   -0.024030\n",
       "Arrival Delay in Minutes     -0.029345\n",
       "Customer Type                -0.187748\n",
       "Class                        -0.440826\n",
       "Type of Travel               -0.448325\n",
       "Name: satisfaction, dtype: float64"
      ]
     },
     "execution_count": 24,
     "metadata": {},
     "output_type": "execute_result"
    }
   ],
   "source": [
    "corr_matrix=air.corr()\n",
    "corr_matrix[\"satisfaction\"].sort_values(ascending=False)"
   ]
  },
  {
   "cell_type": "code",
   "execution_count": 25,
   "metadata": {},
   "outputs": [
    {
     "data": {
      "text/plain": [
       "Index(['Gender', 'Customer Type', 'Age', 'Type of Travel', 'Class',\n",
       "       'Flight Distance', 'Inflight wifi service', 'Ease of Online booking',\n",
       "       'Food and drink', 'Online boarding', 'Seat comfort',\n",
       "       'Inflight entertainment', 'On-board service', 'Leg room service',\n",
       "       'Baggage handling', 'Checkin service', 'Inflight service',\n",
       "       'Cleanliness', 'Departure Delay in Minutes', 'Arrival Delay in Minutes',\n",
       "       'satisfaction'],\n",
       "      dtype='object')"
      ]
     },
     "execution_count": 25,
     "metadata": {},
     "output_type": "execute_result"
    }
   ],
   "source": [
    "air.columns"
   ]
  },
  {
   "cell_type": "code",
   "execution_count": 26,
   "metadata": {},
   "outputs": [],
   "source": [
    "X = air.loc[:, ['Gender', 'Customer Type', 'Age', 'Type of Travel', 'Class',\n",
    "       'Flight Distance', 'Inflight wifi service', 'Ease of Online booking',\n",
    "       'Food and drink', 'Online boarding', 'Seat comfort',\n",
    "       'Inflight entertainment', 'On-board service', 'Leg room service',\n",
    "       'Baggage handling', 'Checkin service', 'Inflight service',\n",
    "       'Cleanliness', 'Arrival Delay in Minutes']]\n",
    "y = air.loc[:,['satisfaction']]"
   ]
  },
  {
   "cell_type": "markdown",
   "metadata": {},
   "source": [
    " SCALING: MinMaxScaler is used for scaling as the data is not normally distributed and doesn't have much outliers!"
   ]
  },
  {
   "cell_type": "code",
   "execution_count": 27,
   "metadata": {},
   "outputs": [],
   "source": [
    "from sklearn.model_selection import train_test_split\n",
    "from sklearn.preprocessing import MinMaxScaler\n",
    "X_train_org, X_test_org, y_train, y_test = train_test_split(X,y,test_size=0.30, random_state = 0)\n",
    "\n",
    "sc = MinMaxScaler()\n",
    "X_train = sc.fit_transform(X_train_org)\n",
    "X_test = sc.transform(X_test_org) "
   ]
  },
  {
   "cell_type": "code",
   "execution_count": 28,
   "metadata": {},
   "outputs": [],
   "source": [
    "from sklearn.neighbors import KNeighborsClassifier\n",
    "from sklearn.ensemble import VotingClassifier\n",
    "from sklearn.linear_model import LogisticRegression\n",
    "from sklearn.svm import SVC"
   ]
  },
  {
   "cell_type": "markdown",
   "metadata": {},
   "source": [
    "## Applying Voting Classifiers"
   ]
  },
  {
   "cell_type": "code",
   "execution_count": 29,
   "metadata": {},
   "outputs": [
    {
     "name": "stdout",
     "output_type": "stream",
     "text": [
      "LogisticRegression 0.8743333333333333\n",
      "KNeighborsClassifier 0.91\n",
      "SVC 0.939\n",
      "VotingClassifier 0.917\n"
     ]
    }
   ],
   "source": [
    "log_clf = LogisticRegression()\n",
    "log_clf.fit(X_train, y_train)\n",
    "knn_clf = KNeighborsClassifier(7)\n",
    "knn_clf.fit(X_train, y_train)\n",
    "svm_clf = SVC(C = 10, probability = True)\n",
    "svm_clf.fit(X_train, y_train)\n",
    "\n",
    "voting_clf = VotingClassifier(estimators=[('lr', log_clf), ('knn', knn_clf), ('svc', svm_clf)], voting='hard')\n",
    "voting_clf.fit(X_train, y_train)\n",
    "\n",
    "from sklearn.metrics import accuracy_score\n",
    "for clf in (log_clf, knn_clf, svm_clf, voting_clf):\n",
    "    clf.fit(X_train, y_train)\n",
    "    y_pred = clf.predict(X_test)\n",
    "    print(clf.__class__.__name__, accuracy_score(y_test, y_pred))"
   ]
  },
  {
   "cell_type": "code",
   "execution_count": 30,
   "metadata": {},
   "outputs": [
    {
     "name": "stdout",
     "output_type": "stream",
     "text": [
      "LogisticRegression 0.8743333333333333\n",
      "KNeighborsClassifier 0.91\n",
      "SVC 0.939\n",
      "VotingClassifier 0.92\n"
     ]
    }
   ],
   "source": [
    "\n",
    "log_clf = LogisticRegression()\n",
    "log_clf.fit(X_train, y_train)\n",
    "knn_clf = KNeighborsClassifier(7)\n",
    "knn_clf.fit(X_train, y_train)\n",
    "svm_clf = SVC(C = 10, probability = True)\n",
    "svm_clf.fit(X_train, y_train)\n",
    "\n",
    "voting_clf = VotingClassifier(estimators=[('lr', log_clf), ('knn', knn_clf), ('svc', svm_clf)], voting='soft')\n",
    "voting_clf.fit(X_train, y_train)\n",
    "\n",
    "from sklearn.metrics import accuracy_score\n",
    "for clf in (log_clf, knn_clf, svm_clf, voting_clf):\n",
    "    clf.fit(X_train, y_train)\n",
    "    y_pred = clf.predict(X_test)\n",
    "    print(clf.__class__.__name__, accuracy_score(y_test, y_pred))"
   ]
  },
  {
   "cell_type": "markdown",
   "metadata": {},
   "source": [
    "## Two Models with Bagging"
   ]
  },
  {
   "cell_type": "code",
   "execution_count": 31,
   "metadata": {},
   "outputs": [],
   "source": [
    "from sklearn.ensemble import BaggingClassifier\n",
    "lr_clf = LogisticRegression(random_state=0)\n",
    "bag_clf = BaggingClassifier(lr_clf, n_estimators=500, max_samples=100, bootstrap=True, n_jobs=-1, random_state=0)\n",
    "\n",
    "bag_clf.fit(X_train, y_train)\n",
    "y_pred = bag_clf.predict(X_test)"
   ]
  },
  {
   "cell_type": "code",
   "execution_count": 32,
   "metadata": {},
   "outputs": [
    {
     "name": "stdout",
     "output_type": "stream",
     "text": [
      "0.868\n"
     ]
    }
   ],
   "source": [
    "from  sklearn.metrics import accuracy_score\n",
    "print(accuracy_score(y_test, y_pred))"
   ]
  },
  {
   "cell_type": "code",
   "execution_count": 33,
   "metadata": {},
   "outputs": [
    {
     "name": "stdout",
     "output_type": "stream",
     "text": [
      "Train score: 0.87\n",
      "Test score: 0.87\n",
      "0.8743333333333333\n"
     ]
    }
   ],
   "source": [
    "bag_clf.fit(X_train, y_train)\n",
    "print('Train score: {:.2f}'.format(bag_clf.score(X_train, y_train)))\n",
    "print('Test score: {:.2f}'.format(bag_clf.score(X_test, y_test)))\n",
    "lr_clf = LogisticRegression(random_state=0)\n",
    "lr_clf.fit(X_train, y_train)\n",
    "y_pred_tree = lr_clf.predict(X_test)\n",
    "\n",
    "print(accuracy_score(y_test, y_pred_tree))"
   ]
  },
  {
   "cell_type": "code",
   "execution_count": 34,
   "metadata": {},
   "outputs": [
    {
     "name": "stdout",
     "output_type": "stream",
     "text": [
      "Accuracy score\" 0.88\n",
      "Train score: 0.88\n",
      "Test score: 0.88\n"
     ]
    }
   ],
   "source": [
    "svc_clf = SVC(random_state=0)\n",
    "bag_clf = BaggingClassifier(svc_clf, n_estimators=500, max_samples=100, bootstrap=True, n_jobs=-1, random_state=0)\n",
    "\n",
    "bag_clf.fit(X_train, y_train)\n",
    "y_pred = bag_clf.predict(X_test)\n",
    "from  sklearn.metrics import accuracy_score\n",
    "print('Accuracy score\" {:.2f}'.format(accuracy_score(y_test, y_pred)))\n",
    "bag_clf.fit(X_train, y_train)\n",
    "print('Train score: {:.2f}'.format(bag_clf.score(X_train, y_train)))\n",
    "print('Test score: {:.2f}'.format(bag_clf.score(X_test, y_test)))"
   ]
  },
  {
   "cell_type": "markdown",
   "metadata": {},
   "source": [
    "## Two models with Pasting"
   ]
  },
  {
   "cell_type": "code",
   "execution_count": 35,
   "metadata": {},
   "outputs": [
    {
     "name": "stdout",
     "output_type": "stream",
     "text": [
      "Accuracy score 0.88\n",
      "Train score: 0.88\n",
      "Test score: 0.88\n"
     ]
    }
   ],
   "source": [
    "svc_clf = SVC(random_state=0)\n",
    "bag_clf = BaggingClassifier(svc_clf, n_estimators=500, max_samples=100, bootstrap=False, n_jobs=-1, random_state=0)\n",
    "\n",
    "bag_clf.fit(X_train, y_train)\n",
    "y_pred = bag_clf.predict(X_test)\n",
    "from  sklearn.metrics import accuracy_score\n",
    "print('Accuracy score {:.2f}'.format(accuracy_score(y_test, y_pred)))\n",
    "bag_clf.fit(X_train, y_train)\n",
    "print('Train score: {:.2f}'.format(bag_clf.score(X_train, y_train)))\n",
    "print('Test score: {:.2f}'.format(bag_clf.score(X_test, y_test)))"
   ]
  },
  {
   "cell_type": "code",
   "execution_count": 36,
   "metadata": {},
   "outputs": [
    {
     "name": "stdout",
     "output_type": "stream",
     "text": [
      "Accuracy score 0.87\n",
      "Train score: 0.87\n",
      "Test score: 0.87\n"
     ]
    }
   ],
   "source": [
    "lr_clf = LogisticRegression(random_state=0)\n",
    "bag_clf = BaggingClassifier(lr_clf, n_estimators=500, max_samples=100, bootstrap=False, n_jobs=-1, random_state=0)\n",
    "\n",
    "bag_clf.fit(X_train, y_train)\n",
    "y_pred = bag_clf.predict(X_test)\n",
    "from  sklearn.metrics import accuracy_score\n",
    "print('Accuracy score {:.2f}'.format(accuracy_score(y_test, y_pred)))\n",
    "bag_clf.fit(X_train, y_train)\n",
    "print('Train score: {:.2f}'.format(bag_clf.score(X_train, y_train)))\n",
    "print('Test score: {:.2f}'.format(bag_clf.score(X_test, y_test)))"
   ]
  },
  {
   "cell_type": "markdown",
   "metadata": {},
   "source": [
    "## Two models with AdaBoost Boosting"
   ]
  },
  {
   "cell_type": "code",
   "execution_count": 37,
   "metadata": {},
   "outputs": [],
   "source": [
    "from sklearn.ensemble import AdaBoostClassifier"
   ]
  },
  {
   "cell_type": "code",
   "execution_count": 38,
   "metadata": {},
   "outputs": [
    {
     "name": "stdout",
     "output_type": "stream",
     "text": [
      "Train score: 0.86\n",
      "Test score: 0.86\n"
     ]
    }
   ],
   "source": [
    "ada_clf = AdaBoostClassifier(base_estimator=LogisticRegression(), n_estimators=200, algorithm=\"SAMME.R\", learning_rate=0.5, random_state=0)\n",
    "ada_clf.fit(X_train, y_train)\n",
    "print('Train score: {:.2f}'.format(ada_clf.score(X_train, y_train)))\n",
    "print('Test score: {:.2f}'.format(ada_clf.score(X_test, y_test)))"
   ]
  },
  {
   "cell_type": "code",
   "execution_count": 39,
   "metadata": {},
   "outputs": [
    {
     "name": "stdout",
     "output_type": "stream",
     "text": [
      "Train score: 0.93\n",
      "Test score: 0.92\n"
     ]
    }
   ],
   "source": [
    "from sklearn.tree import DecisionTreeClassifier\n",
    "ada_clf = AdaBoostClassifier(DecisionTreeClassifier(max_depth=1), n_estimators=200, algorithm=\"SAMME.R\", learning_rate=0.5, random_state=0)\n",
    "ada_clf.fit(X_train, y_train)\n",
    "print('Train score: {:.2f}'.format(ada_clf.score(X_train, y_train)))\n",
    "print('Test score: {:.2f}'.format(ada_clf.score(X_test, y_test)))"
   ]
  },
  {
   "cell_type": "markdown",
   "metadata": {},
   "source": [
    "## Gradient Boosting Classifier"
   ]
  },
  {
   "cell_type": "code",
   "execution_count": 40,
   "metadata": {},
   "outputs": [
    {
     "name": "stdout",
     "output_type": "stream",
     "text": [
      "Accuracy on training set: 0.944\n",
      "Accuracy on test set: 0.939\n"
     ]
    }
   ],
   "source": [
    "from sklearn.ensemble import GradientBoostingClassifier\n",
    "gbrt = GradientBoostingClassifier(random_state=0, learning_rate=0.1)\n",
    "gbrt.fit(X_train, y_train)\n",
    "\n",
    "print(\"Accuracy on training set: {:.3f}\".format(gbrt.score(X_train, y_train)))\n",
    "print(\"Accuracy on test set: {:.3f}\".format(gbrt.score(X_test, y_test)))"
   ]
  },
  {
   "cell_type": "markdown",
   "metadata": {},
   "source": [
    "## Deep Learning Model(Neural Network)"
   ]
  },
  {
   "cell_type": "code",
   "execution_count": 41,
   "metadata": {},
   "outputs": [
    {
     "name": "stderr",
     "output_type": "stream",
     "text": [
      "Using TensorFlow backend.\n"
     ]
    }
   ],
   "source": [
    "from keras.models import Sequential\n",
    "from keras.layers import Dense"
   ]
  },
  {
   "cell_type": "code",
   "execution_count": 42,
   "metadata": {},
   "outputs": [
    {
     "name": "stdout",
     "output_type": "stream",
     "text": [
      "WARNING:tensorflow:From C:\\Users\\anmol\\anaconda3\\lib\\site-packages\\tensorflow\\python\\ops\\nn_impl.py:180: add_dispatch_support.<locals>.wrapper (from tensorflow.python.ops.array_ops) is deprecated and will be removed in a future version.\n",
      "Instructions for updating:\n",
      "Use tf.where in 2.0, which has the same broadcast rule as np.where\n",
      "WARNING:tensorflow:From C:\\Users\\anmol\\anaconda3\\lib\\site-packages\\keras\\backend\\tensorflow_backend.py:422: The name tf.global_variables is deprecated. Please use tf.compat.v1.global_variables instead.\n",
      "\n",
      "Train on 5950 samples, validate on 1050 samples\n",
      "Epoch 1/100\n",
      "5950/5950 [==============================] - 1s 102us/step - loss: 0.4622 - accuracy: 0.7813 - val_loss: 0.3301 - val_accuracy: 0.8771\n",
      "Epoch 2/100\n",
      "5950/5950 [==============================] - 0s 67us/step - loss: 0.3116 - accuracy: 0.8771 - val_loss: 0.2873 - val_accuracy: 0.8867\n",
      "Epoch 3/100\n",
      "5950/5950 [==============================] - 0s 66us/step - loss: 0.2787 - accuracy: 0.8901 - val_loss: 0.2654 - val_accuracy: 0.8943\n",
      "Epoch 4/100\n",
      "5950/5950 [==============================] - 0s 60us/step - loss: 0.2557 - accuracy: 0.9025 - val_loss: 0.2406 - val_accuracy: 0.9133\n",
      "Epoch 5/100\n",
      "5950/5950 [==============================] - 0s 67us/step - loss: 0.2339 - accuracy: 0.9054 - val_loss: 0.2303 - val_accuracy: 0.9133\n",
      "Epoch 6/100\n",
      "5950/5950 [==============================] - 0s 63us/step - loss: 0.2178 - accuracy: 0.9114 - val_loss: 0.2580 - val_accuracy: 0.8924\n",
      "Epoch 7/100\n",
      "5950/5950 [==============================] - 0s 65us/step - loss: 0.2079 - accuracy: 0.9153 - val_loss: 0.2059 - val_accuracy: 0.9238\n",
      "Epoch 8/100\n",
      "5950/5950 [==============================] - 0s 65us/step - loss: 0.1942 - accuracy: 0.9215 - val_loss: 0.1954 - val_accuracy: 0.9295\n",
      "Epoch 9/100\n",
      "5950/5950 [==============================] - 0s 64us/step - loss: 0.1853 - accuracy: 0.9276 - val_loss: 0.1914 - val_accuracy: 0.9305\n",
      "Epoch 10/100\n",
      "5950/5950 [==============================] - 0s 65us/step - loss: 0.1744 - accuracy: 0.9306 - val_loss: 0.1964 - val_accuracy: 0.9210\n",
      "Epoch 11/100\n",
      "5950/5950 [==============================] - 0s 72us/step - loss: 0.1729 - accuracy: 0.9294 - val_loss: 0.2139 - val_accuracy: 0.9143\n",
      "Epoch 12/100\n",
      "5950/5950 [==============================] - 0s 66us/step - loss: 0.1655 - accuracy: 0.9314 - val_loss: 0.1684 - val_accuracy: 0.9352\n",
      "Epoch 13/100\n",
      "5950/5950 [==============================] - 0s 64us/step - loss: 0.1563 - accuracy: 0.9363 - val_loss: 0.1901 - val_accuracy: 0.9114\n",
      "Epoch 14/100\n",
      "5950/5950 [==============================] - 0s 65us/step - loss: 0.1526 - accuracy: 0.9363 - val_loss: 0.1626 - val_accuracy: 0.9314\n",
      "Epoch 15/100\n",
      "5950/5950 [==============================] - 0s 66us/step - loss: 0.1500 - accuracy: 0.9413 - val_loss: 0.1568 - val_accuracy: 0.9448\n",
      "Epoch 16/100\n",
      "5950/5950 [==============================] - 0s 66us/step - loss: 0.1453 - accuracy: 0.9405 - val_loss: 0.1629 - val_accuracy: 0.9419\n",
      "Epoch 17/100\n",
      "5950/5950 [==============================] - 0s 65us/step - loss: 0.1476 - accuracy: 0.9370 - val_loss: 0.1533 - val_accuracy: 0.9400\n",
      "Epoch 18/100\n",
      "5950/5950 [==============================] - 0s 71us/step - loss: 0.1430 - accuracy: 0.9424 - val_loss: 0.1486 - val_accuracy: 0.9457\n",
      "Epoch 19/100\n",
      "5950/5950 [==============================] - 0s 63us/step - loss: 0.1411 - accuracy: 0.9422 - val_loss: 0.1464 - val_accuracy: 0.9400\n",
      "Epoch 20/100\n",
      "5950/5950 [==============================] - 0s 65us/step - loss: 0.1350 - accuracy: 0.9459 - val_loss: 0.1459 - val_accuracy: 0.9429\n",
      "Epoch 21/100\n",
      "5950/5950 [==============================] - 0s 67us/step - loss: 0.1346 - accuracy: 0.9452 - val_loss: 0.1600 - val_accuracy: 0.9352\n",
      "Epoch 22/100\n",
      "5950/5950 [==============================] - 0s 65us/step - loss: 0.1361 - accuracy: 0.9442 - val_loss: 0.1429 - val_accuracy: 0.9448\n",
      "Epoch 23/100\n",
      "5950/5950 [==============================] - 0s 66us/step - loss: 0.1289 - accuracy: 0.9447 - val_loss: 0.1683 - val_accuracy: 0.9257\n",
      "Epoch 24/100\n",
      "5950/5950 [==============================] - 0s 67us/step - loss: 0.1299 - accuracy: 0.9444 - val_loss: 0.1442 - val_accuracy: 0.9362\n",
      "Epoch 25/100\n",
      "5950/5950 [==============================] - 0s 65us/step - loss: 0.1264 - accuracy: 0.9484 - val_loss: 0.1823 - val_accuracy: 0.9267\n",
      "Epoch 26/100\n",
      "5950/5950 [==============================] - 0s 67us/step - loss: 0.1278 - accuracy: 0.9459 - val_loss: 0.1452 - val_accuracy: 0.9381\n",
      "Epoch 27/100\n",
      "5950/5950 [==============================] - 0s 65us/step - loss: 0.1282 - accuracy: 0.9461 - val_loss: 0.1490 - val_accuracy: 0.9400\n",
      "Epoch 28/100\n",
      "5950/5950 [==============================] - 0s 65us/step - loss: 0.1223 - accuracy: 0.9499 - val_loss: 0.1443 - val_accuracy: 0.9438\n",
      "Epoch 29/100\n",
      "5950/5950 [==============================] - 0s 67us/step - loss: 0.1208 - accuracy: 0.9513 - val_loss: 0.1412 - val_accuracy: 0.9476\n",
      "Epoch 30/100\n",
      "5950/5950 [==============================] - 0s 66us/step - loss: 0.1193 - accuracy: 0.9516 - val_loss: 0.1496 - val_accuracy: 0.9390\n",
      "Epoch 31/100\n",
      "5950/5950 [==============================] - 0s 73us/step - loss: 0.1205 - accuracy: 0.9546 - val_loss: 0.1427 - val_accuracy: 0.9410\n",
      "Epoch 32/100\n",
      "5950/5950 [==============================] - 0s 61us/step - loss: 0.1205 - accuracy: 0.9489 - val_loss: 0.1427 - val_accuracy: 0.9381\n",
      "Epoch 33/100\n",
      "5950/5950 [==============================] - 0s 55us/step - loss: 0.1194 - accuracy: 0.9491 - val_loss: 0.1436 - val_accuracy: 0.9438\n",
      "Epoch 34/100\n",
      "5950/5950 [==============================] - 0s 61us/step - loss: 0.1155 - accuracy: 0.9513 - val_loss: 0.1498 - val_accuracy: 0.9343\n",
      "Epoch 35/100\n",
      "5950/5950 [==============================] - 1s 88us/step - loss: 0.1218 - accuracy: 0.9497 - val_loss: 0.1555 - val_accuracy: 0.9390\n",
      "Epoch 36/100\n",
      "5950/5950 [==============================] - 0s 80us/step - loss: 0.1127 - accuracy: 0.9524 - val_loss: 0.1437 - val_accuracy: 0.9400\n",
      "Epoch 37/100\n",
      "5950/5950 [==============================] - 0s 81us/step - loss: 0.1091 - accuracy: 0.9538 - val_loss: 0.1609 - val_accuracy: 0.9305\n",
      "Epoch 38/100\n",
      "5950/5950 [==============================] - 0s 72us/step - loss: 0.1140 - accuracy: 0.9518 - val_loss: 0.1696 - val_accuracy: 0.9314\n",
      "Epoch 39/100\n",
      "5950/5950 [==============================] - 0s 66us/step - loss: 0.1154 - accuracy: 0.9516 - val_loss: 0.1467 - val_accuracy: 0.9400\n",
      "Epoch 40/100\n",
      "5950/5950 [==============================] - 0s 76us/step - loss: 0.1128 - accuracy: 0.9550 - val_loss: 0.1534 - val_accuracy: 0.9276\n",
      "Epoch 41/100\n",
      "5950/5950 [==============================] - 0s 62us/step - loss: 0.1113 - accuracy: 0.9531 - val_loss: 0.1752 - val_accuracy: 0.9286\n",
      "Epoch 42/100\n",
      "5950/5950 [==============================] - 0s 73us/step - loss: 0.1108 - accuracy: 0.9531 - val_loss: 0.1394 - val_accuracy: 0.9429\n",
      "Epoch 43/100\n",
      "5950/5950 [==============================] - 0s 67us/step - loss: 0.1080 - accuracy: 0.9551 - val_loss: 0.1375 - val_accuracy: 0.9448\n",
      "Epoch 44/100\n",
      "5950/5950 [==============================] - 0s 72us/step - loss: 0.1114 - accuracy: 0.9553 - val_loss: 0.1430 - val_accuracy: 0.9429\n",
      "Epoch 45/100\n",
      "5950/5950 [==============================] - 0s 65us/step - loss: 0.1044 - accuracy: 0.9592 - val_loss: 0.1704 - val_accuracy: 0.9343\n",
      "Epoch 46/100\n",
      "5950/5950 [==============================] - 0s 68us/step - loss: 0.1069 - accuracy: 0.9566 - val_loss: 0.1341 - val_accuracy: 0.9448\n",
      "Epoch 47/100\n",
      "5950/5950 [==============================] - 0s 67us/step - loss: 0.1009 - accuracy: 0.9576 - val_loss: 0.1504 - val_accuracy: 0.9333\n",
      "Epoch 48/100\n",
      "5950/5950 [==============================] - 0s 69us/step - loss: 0.1064 - accuracy: 0.9538 - val_loss: 0.1570 - val_accuracy: 0.9438\n",
      "Epoch 49/100\n",
      "5950/5950 [==============================] - 0s 79us/step - loss: 0.1021 - accuracy: 0.9585 - val_loss: 0.1421 - val_accuracy: 0.9438\n",
      "Epoch 50/100\n",
      "5950/5950 [==============================] - 0s 81us/step - loss: 0.1026 - accuracy: 0.9571 - val_loss: 0.1409 - val_accuracy: 0.9486\n",
      "Epoch 51/100\n",
      "5950/5950 [==============================] - 0s 67us/step - loss: 0.0983 - accuracy: 0.9592 - val_loss: 0.1603 - val_accuracy: 0.9390\n",
      "Epoch 52/100\n",
      "5950/5950 [==============================] - 0s 64us/step - loss: 0.1003 - accuracy: 0.9595 - val_loss: 0.1356 - val_accuracy: 0.9410\n"
     ]
    },
    {
     "name": "stdout",
     "output_type": "stream",
     "text": [
      "Epoch 53/100\n",
      "5950/5950 [==============================] - 0s 63us/step - loss: 0.0989 - accuracy: 0.9597 - val_loss: 0.1427 - val_accuracy: 0.9410\n",
      "Epoch 54/100\n",
      "5950/5950 [==============================] - 0s 64us/step - loss: 0.1032 - accuracy: 0.9578 - val_loss: 0.1507 - val_accuracy: 0.9400\n",
      "Epoch 55/100\n",
      "5950/5950 [==============================] - 0s 66us/step - loss: 0.1005 - accuracy: 0.9576 - val_loss: 0.1402 - val_accuracy: 0.9410\n",
      "Epoch 56/100\n",
      "5950/5950 [==============================] - 0s 72us/step - loss: 0.0982 - accuracy: 0.9590 - val_loss: 0.1488 - val_accuracy: 0.9457\n",
      "Epoch 57/100\n",
      "5950/5950 [==============================] - 0s 71us/step - loss: 0.0962 - accuracy: 0.9598 - val_loss: 0.1509 - val_accuracy: 0.9429\n",
      "Epoch 58/100\n",
      "5950/5950 [==============================] - 1s 86us/step - loss: 0.0929 - accuracy: 0.9600 - val_loss: 0.1491 - val_accuracy: 0.9457\n",
      "Epoch 59/100\n",
      "5950/5950 [==============================] - 0s 77us/step - loss: 0.0955 - accuracy: 0.9573 - val_loss: 0.1587 - val_accuracy: 0.9429\n",
      "Epoch 60/100\n",
      "5950/5950 [==============================] - 1s 98us/step - loss: 0.0975 - accuracy: 0.9588 - val_loss: 0.1398 - val_accuracy: 0.9429\n",
      "Epoch 61/100\n",
      "5950/5950 [==============================] - 1s 86us/step - loss: 0.0925 - accuracy: 0.9615 - val_loss: 0.1425 - val_accuracy: 0.9457\n",
      "Epoch 62/100\n",
      "5950/5950 [==============================] - 1s 106us/step - loss: 0.0937 - accuracy: 0.9607 - val_loss: 0.2253 - val_accuracy: 0.9124\n",
      "Epoch 63/100\n",
      "5950/5950 [==============================] - 0s 76us/step - loss: 0.0952 - accuracy: 0.9593 - val_loss: 0.1426 - val_accuracy: 0.9486\n",
      "Epoch 64/100\n",
      "5950/5950 [==============================] - 0s 78us/step - loss: 0.0935 - accuracy: 0.9587 - val_loss: 0.1444 - val_accuracy: 0.9467\n",
      "Epoch 65/100\n",
      "5950/5950 [==============================] - 0s 71us/step - loss: 0.0903 - accuracy: 0.9649 - val_loss: 0.1413 - val_accuracy: 0.9438\n",
      "Epoch 66/100\n",
      "5950/5950 [==============================] - 0s 72us/step - loss: 0.0907 - accuracy: 0.9618 - val_loss: 0.1395 - val_accuracy: 0.9410\n",
      "Epoch 67/100\n",
      "5950/5950 [==============================] - 0s 84us/step - loss: 0.0872 - accuracy: 0.9627 - val_loss: 0.1425 - val_accuracy: 0.9448\n",
      "Epoch 68/100\n",
      "5950/5950 [==============================] - 0s 74us/step - loss: 0.0893 - accuracy: 0.9617 - val_loss: 0.1898 - val_accuracy: 0.9286\n",
      "Epoch 69/100\n",
      "5950/5950 [==============================] - 0s 74us/step - loss: 0.0873 - accuracy: 0.9632 - val_loss: 0.1429 - val_accuracy: 0.9486\n",
      "Epoch 70/100\n",
      "5950/5950 [==============================] - 0s 70us/step - loss: 0.0871 - accuracy: 0.9629 - val_loss: 0.1431 - val_accuracy: 0.9448\n",
      "Epoch 71/100\n",
      "5950/5950 [==============================] - 0s 68us/step - loss: 0.0844 - accuracy: 0.9657 - val_loss: 0.1554 - val_accuracy: 0.9381\n",
      "Epoch 72/100\n",
      "5950/5950 [==============================] - 0s 57us/step - loss: 0.0865 - accuracy: 0.9625 - val_loss: 0.1423 - val_accuracy: 0.9362\n",
      "Epoch 73/100\n",
      "5950/5950 [==============================] - 0s 67us/step - loss: 0.0864 - accuracy: 0.9635 - val_loss: 0.1425 - val_accuracy: 0.9486\n",
      "Epoch 74/100\n",
      "5950/5950 [==============================] - 0s 68us/step - loss: 0.0834 - accuracy: 0.9629 - val_loss: 0.1444 - val_accuracy: 0.9467\n",
      "Epoch 75/100\n",
      "5950/5950 [==============================] - 0s 67us/step - loss: 0.0811 - accuracy: 0.9654 - val_loss: 0.1530 - val_accuracy: 0.9457\n",
      "Epoch 76/100\n",
      "5950/5950 [==============================] - 0s 70us/step - loss: 0.0836 - accuracy: 0.9644 - val_loss: 0.1459 - val_accuracy: 0.9486\n",
      "Epoch 77/100\n",
      "5950/5950 [==============================] - 0s 69us/step - loss: 0.0795 - accuracy: 0.9674 - val_loss: 0.1458 - val_accuracy: 0.9429\n",
      "Epoch 78/100\n",
      "5950/5950 [==============================] - 0s 79us/step - loss: 0.0847 - accuracy: 0.9612 - val_loss: 0.1436 - val_accuracy: 0.9495\n",
      "Epoch 79/100\n",
      "5950/5950 [==============================] - 0s 82us/step - loss: 0.0836 - accuracy: 0.9642 - val_loss: 0.1586 - val_accuracy: 0.9390\n",
      "Epoch 80/100\n",
      "5950/5950 [==============================] - 0s 68us/step - loss: 0.0827 - accuracy: 0.9647 - val_loss: 0.1495 - val_accuracy: 0.9448\n",
      "Epoch 81/100\n",
      "5950/5950 [==============================] - 0s 68us/step - loss: 0.0822 - accuracy: 0.9662 - val_loss: 0.1520 - val_accuracy: 0.9467\n",
      "Epoch 82/100\n",
      "5950/5950 [==============================] - 0s 69us/step - loss: 0.0806 - accuracy: 0.9650 - val_loss: 0.1573 - val_accuracy: 0.9400\n",
      "Epoch 83/100\n",
      "5950/5950 [==============================] - 0s 72us/step - loss: 0.0818 - accuracy: 0.9645 - val_loss: 0.1603 - val_accuracy: 0.9448\n",
      "Epoch 84/100\n",
      "5950/5950 [==============================] - 0s 71us/step - loss: 0.0812 - accuracy: 0.9634 - val_loss: 0.1546 - val_accuracy: 0.9410\n",
      "Epoch 85/100\n",
      "5950/5950 [==============================] - 0s 75us/step - loss: 0.0765 - accuracy: 0.9664 - val_loss: 0.1485 - val_accuracy: 0.9410\n",
      "Epoch 86/100\n",
      "5950/5950 [==============================] - 0s 75us/step - loss: 0.0773 - accuracy: 0.9662 - val_loss: 0.1908 - val_accuracy: 0.9314\n",
      "Epoch 87/100\n",
      "5950/5950 [==============================] - 0s 78us/step - loss: 0.0762 - accuracy: 0.9655 - val_loss: 0.2128 - val_accuracy: 0.9219\n",
      "Epoch 88/100\n",
      "5950/5950 [==============================] - 0s 66us/step - loss: 0.0826 - accuracy: 0.9647 - val_loss: 0.1683 - val_accuracy: 0.9419\n",
      "Epoch 89/100\n",
      "5950/5950 [==============================] - 0s 66us/step - loss: 0.0767 - accuracy: 0.9689 - val_loss: 0.1689 - val_accuracy: 0.9419\n",
      "Epoch 90/100\n",
      "5950/5950 [==============================] - 0s 73us/step - loss: 0.0762 - accuracy: 0.9681 - val_loss: 0.1549 - val_accuracy: 0.9400\n",
      "Epoch 91/100\n",
      "5950/5950 [==============================] - 0s 70us/step - loss: 0.0763 - accuracy: 0.9666 - val_loss: 0.1676 - val_accuracy: 0.9362\n",
      "Epoch 92/100\n",
      "5950/5950 [==============================] - 0s 79us/step - loss: 0.0741 - accuracy: 0.9666 - val_loss: 0.1694 - val_accuracy: 0.9390\n",
      "Epoch 93/100\n",
      "5950/5950 [==============================] - 0s 62us/step - loss: 0.0734 - accuracy: 0.9699 - val_loss: 0.1658 - val_accuracy: 0.9362\n",
      "Epoch 94/100\n",
      "5950/5950 [==============================] - 0s 69us/step - loss: 0.0726 - accuracy: 0.9682 - val_loss: 0.1720 - val_accuracy: 0.9390\n",
      "Epoch 95/100\n",
      "5950/5950 [==============================] - 0s 71us/step - loss: 0.0728 - accuracy: 0.9697 - val_loss: 0.1746 - val_accuracy: 0.9400\n",
      "Epoch 96/100\n",
      "5950/5950 [==============================] - 0s 69us/step - loss: 0.0761 - accuracy: 0.9664 - val_loss: 0.1790 - val_accuracy: 0.9486\n",
      "Epoch 97/100\n",
      "5950/5950 [==============================] - 0s 68us/step - loss: 0.0754 - accuracy: 0.9672 - val_loss: 0.1643 - val_accuracy: 0.9486\n",
      "Epoch 98/100\n",
      "5950/5950 [==============================] - 0s 68us/step - loss: 0.0716 - accuracy: 0.9682 - val_loss: 0.1723 - val_accuracy: 0.9381\n",
      "Epoch 99/100\n",
      "5950/5950 [==============================] - 0s 68us/step - loss: 0.0721 - accuracy: 0.9696 - val_loss: 0.1776 - val_accuracy: 0.9419\n",
      "Epoch 100/100\n",
      "5950/5950 [==============================] - 0s 68us/step - loss: 0.0689 - accuracy: 0.9713 - val_loss: 0.1616 - val_accuracy: 0.9410\n",
      "\n",
      "accuracy: 92.30%\n"
     ]
    }
   ],
   "source": [
    "\n",
    "# create model\n",
    "model = Sequential()\n",
    "model.add(Dense(40, input_dim=19, activation='relu'))\n",
    "model.add(Dense(20, activation='relu'))\n",
    "model.add(Dense(10, activation='relu'))\n",
    "model.add(Dense(1, activation='sigmoid'))\n",
    "# Compile model\n",
    "model.compile(loss='binary_crossentropy', optimizer='adam', metrics=['accuracy'])\n",
    "# Fit the model\n",
    "model.fit(X_train, y_train, epochs=100, batch_size=16, validation_split=0.15)\n",
    "# evaluate the model\n",
    "scores = model.evaluate(X_test, y_test, verbose=2)\n",
    "print(\"\\n%s: %.2f%%\" % (model.metrics_names[1], scores[1]*100))"
   ]
  },
  {
   "cell_type": "code",
   "execution_count": 43,
   "metadata": {},
   "outputs": [
    {
     "data": {
      "text/plain": [
       "array([[0],\n",
       "       [0],\n",
       "       [0],\n",
       "       ...,\n",
       "       [0],\n",
       "       [0],\n",
       "       [0]])"
      ]
     },
     "execution_count": 43,
     "metadata": {},
     "output_type": "execute_result"
    }
   ],
   "source": [
    "y_predict = model.predict_classes(X_test)\n",
    "y_predict"
   ]
  },
  {
   "cell_type": "markdown",
   "metadata": {},
   "source": [
    "## Dimensionality Reduction using PCA"
   ]
  },
  {
   "cell_type": "code",
   "execution_count": 44,
   "metadata": {},
   "outputs": [],
   "source": [
    "from sklearn.decomposition import PCA\n",
    "from sklearn.manifold import LocallyLinearEmbedding"
   ]
  },
  {
   "cell_type": "code",
   "execution_count": 45,
   "metadata": {},
   "outputs": [
    {
     "data": {
      "text/plain": [
       "(7000, 19)"
      ]
     },
     "execution_count": 45,
     "metadata": {},
     "output_type": "execute_result"
    }
   ],
   "source": [
    "pca=PCA(n_components=19)\n",
    "X_Train=pca.fit_transform(X_train)\n",
    "X_Test=pca.transform(X_test)\n",
    "X_Train.shape"
   ]
  },
  {
   "cell_type": "markdown",
   "metadata": {},
   "source": [
    "# KNN CLASSIFICATION"
   ]
  },
  {
   "cell_type": "code",
   "execution_count": 46,
   "metadata": {},
   "outputs": [
    {
     "data": {
      "text/plain": [
       "Text(0, 0.5, 'MSE')"
      ]
     },
     "execution_count": 46,
     "metadata": {},
     "output_type": "execute_result"
    },
    {
     "data": {
      "image/png": "[encoded data removed]",
      "text/plain": [
       "<Figure size 1440x360 with 1 Axes>"
      ]
     },
     "metadata": {},
     "output_type": "display_data"
    }
   ],
   "source": [
    "\n",
    "from sklearn.neighbors import KNeighborsClassifier\n",
    "train_score_array = []\n",
    "test_score_array = []\n",
    "\n",
    "for k in range(1,10):\n",
    "    knn = KNeighborsClassifier(k)\n",
    "    knn.fit(X_Train, y_train)\n",
    "    train_score_array.append(knn.score(X_Train, y_train))\n",
    "    test_score_array.append(knn.score(X_Test, y_test))\n",
    "    \n",
    "x_axis = range(1,10)\n",
    "plt.subplots(figsize = (20,5))\n",
    "plt.plot(x_axis, train_score_array, c = 'g', label = 'Train Score')\n",
    "plt.plot(x_axis, test_score_array, c = 'b', label = 'Test Score')\n",
    "plt.legend()\n",
    "plt.xlabel('n_neighbors')\n",
    "plt.ylabel('MSE')\n",
    "\n"
   ]
  },
  {
   "cell_type": "code",
   "execution_count": 47,
   "metadata": {},
   "outputs": [
    {
     "name": "stdout",
     "output_type": "stream",
     "text": [
      "KNN: Best Parameters {'n_neighbors': 9}\n",
      "0.9103333333333333\n"
     ]
    }
   ],
   "source": [
    "\n",
    "from sklearn.model_selection import GridSearchCV\n",
    "tuned_parameters = [{'n_neighbors':[1,2,3,4,5,6,7,8,9,10,11,12,13,14,15]}]\n",
    "\n",
    "model_knn = GridSearchCV(KNeighborsClassifier(), tuned_parameters, cv=5, n_jobs=-1,return_train_score=True)\n",
    "model_knn.fit(X_Train, y_train)\n",
    "\n",
    "\n",
    "print('KNN: Best Parameters',model_knn.best_params_)\n",
    "\n",
    "\n",
    "y_pred_knn = model_knn.predict(X_Test)\n",
    "print(model_knn.score(X_Test,y_test))"
   ]
  },
  {
   "cell_type": "code",
   "execution_count": 48,
   "metadata": {},
   "outputs": [
    {
     "data": {
      "text/plain": [
       "0.9065714285714286"
      ]
     },
     "execution_count": 48,
     "metadata": {},
     "output_type": "execute_result"
    }
   ],
   "source": [
    "model_knn.best_score_"
   ]
  },
  {
   "cell_type": "code",
   "execution_count": 49,
   "metadata": {},
   "outputs": [
    {
     "name": "stdout",
     "output_type": "stream",
     "text": [
      "              precision    recall  f1-score   support\n",
      "\n",
      "        zero       0.90      0.96      0.93      1739\n",
      "         one       0.93      0.85      0.89      1261\n",
      "\n",
      "    accuracy                           0.91      3000\n",
      "   macro avg       0.91      0.90      0.91      3000\n",
      "weighted avg       0.91      0.91      0.91      3000\n",
      "\n"
     ]
    }
   ],
   "source": [
    "from sklearn.metrics import classification_report\n",
    "print(classification_report(y_test, y_pred_knn, target_names=[\"zero\", \"one\"]))"
   ]
  },
  {
   "cell_type": "code",
   "execution_count": 50,
   "metadata": {},
   "outputs": [
    {
     "data": {
      "text/plain": [
       "<matplotlib.axes._subplots.AxesSubplot at 0x212ea1fd808>"
      ]
     },
     "execution_count": 50,
     "metadata": {},
     "output_type": "execute_result"
    },
    {
     "data": {
      "image/png": "[encoded data removed]",
      "text/plain": [
       "<Figure size 432x288 with 1 Axes>"
      ]
     },
     "metadata": {},
     "output_type": "display_data"
    }
   ],
   "source": [
    "from mlxtend.plotting import plot_decision_regions\n",
    "\n",
    "X_b = X_Train[10:50,[0,1]]\n",
    "y_b = np.array(y_train[10:50]).flatten()\n",
    "\n",
    "knn = KNeighborsClassifier(9)\n",
    "knn.fit(X_b, y_b) \n",
    "\n",
    "plot_decision_regions(X_b, y_b, clf = knn)"
   ]
  },
  {
   "cell_type": "markdown",
   "metadata": {},
   "source": [
    "# Logistic Regression"
   ]
  },
  {
   "cell_type": "code",
   "execution_count": 51,
   "metadata": {},
   "outputs": [],
   "source": [
    "from sklearn.linear_model import LogisticRegression\n",
    "\n",
    "c_range = [0.001, 0.01, 0.1, 1, 10, 100, 1000]\n",
    "train_score_l1 = []\n",
    "train_score_l2 = []\n",
    "test_score_l1 = []\n",
    "test_score_l2 = []\n",
    "\n",
    "for c in c_range:\n",
    "    log_l1 = LogisticRegression(penalty = 'l1', C = c, solver = 'liblinear', max_iter = 500)\n",
    "    log_l2 = LogisticRegression(penalty = 'l2', C = c, solver = 'lbfgs', max_iter = 500)\n",
    "    log_l1.fit(X_Train, y_train)\n",
    "    log_l2.fit(X_Train, y_train)\n",
    "    train_score_l1.append(log_l1.score(X_Train, y_train))\n",
    "    train_score_l2.append(log_l2.score(X_Train, y_train))\n",
    "    test_score_l1.append(log_l1.score(X_Test, y_test))\n",
    "    test_score_l2.append(log_l2.score(X_Test, y_test))"
   ]
  },
  {
   "cell_type": "code",
   "execution_count": 52,
   "metadata": {},
   "outputs": [
    {
     "name": "stdout",
     "output_type": "stream",
     "text": [
      "Train_score_l1: [0.7988571428571428, 0.8458571428571429, 0.8717142857142857, 0.8732857142857143, 0.8738571428571429, 0.8737142857142857, 0.8737142857142857]\n",
      "Test_score_l1: [0.7916666666666666, 0.849, 0.8713333333333333, 0.8733333333333333, 0.8743333333333333, 0.874, 0.874]\n",
      "Train_score_l2: [0.8487142857142858, 0.864, 0.8734285714285714, 0.873, 0.8731428571428571, 0.8737142857142857, 0.8737142857142857]\n",
      "Test_score_l2: [0.8526666666666667, 0.868, 0.8706666666666667, 0.8743333333333333, 0.8736666666666667, 0.874, 0.874]\n"
     ]
    }
   ],
   "source": [
    "print('Train_score_l1:',train_score_l1)\n",
    "print('Test_score_l1:',test_score_l1)\n",
    "print('Train_score_l2:',train_score_l2)\n",
    "print('Test_score_l2:',test_score_l2)"
   ]
  },
  {
   "cell_type": "code",
   "execution_count": 53,
   "metadata": {},
   "outputs": [
    {
     "name": "stdout",
     "output_type": "stream",
     "text": [
      "Logistic: Best Parameters {'C': 10, 'penalty': 'l2'}\n",
      "0.8736666666666667\n"
     ]
    }
   ],
   "source": [
    "from sklearn.model_selection import GridSearchCV\n",
    "logit = LogisticRegression()\n",
    "param = { 'C':[0.001, 0.01, 0.1, 1, 10, 100, 1000], 'penalty': ['l1','l2']}\n",
    "logistic = GridSearchCV(logit,param,cv=5, return_train_score=True)\n",
    "logistic.fit(X_Train,y_train)\n",
    "\n",
    "print('Logistic: Best Parameters',logistic.best_params_)\n",
    "\n",
    "\n",
    "pred_log = logistic.predict(X_Test)\n",
    "print(logistic.score(X_Test,y_test))"
   ]
  },
  {
   "cell_type": "code",
   "execution_count": 54,
   "metadata": {},
   "outputs": [
    {
     "name": "stdout",
     "output_type": "stream",
     "text": [
      "0.8731428571428571\n",
      "0.8736666666666667\n"
     ]
    }
   ],
   "source": [
    "log=LogisticRegression(C=10, penalty='l2')\n",
    "log.fit(X_Train,y_train)\n",
    "print(log.score(X_Train,y_train))\n",
    "print(log.score(X_Test,y_test))"
   ]
  },
  {
   "cell_type": "code",
   "execution_count": 55,
   "metadata": {},
   "outputs": [
    {
     "name": "stdout",
     "output_type": "stream",
     "text": [
      "              precision    recall  f1-score   support\n",
      "\n",
      "        zero       0.89      0.90      0.89      1739\n",
      "         one       0.85      0.84      0.85      1261\n",
      "\n",
      "    accuracy                           0.87      3000\n",
      "   macro avg       0.87      0.87      0.87      3000\n",
      "weighted avg       0.87      0.87      0.87      3000\n",
      "\n"
     ]
    }
   ],
   "source": [
    "from sklearn.metrics import classification_report\n",
    "print(classification_report(y_test, pred_log, target_names=[\"zero\", \"one\"]))"
   ]
  },
  {
   "cell_type": "code",
   "execution_count": 56,
   "metadata": {},
   "outputs": [
    {
     "data": {
      "text/plain": [
       "<matplotlib.axes._subplots.AxesSubplot at 0x212ea1015c8>"
      ]
     },
     "execution_count": 56,
     "metadata": {},
     "output_type": "execute_result"
    },
    {
     "data": {
      "image/png": "[encoded data removed]",
      "text/plain": [
       "<Figure size 432x288 with 1 Axes>"
      ]
     },
     "metadata": {},
     "output_type": "display_data"
    }
   ],
   "source": [
    "from mlxtend.plotting import plot_decision_regions\n",
    "\n",
    "X_b = X_Train[10:50, [0,1]]\n",
    "y_b = np.array(y_train[10:50]).flatten()\n",
    "\n",
    "lreg = LogisticRegression()\n",
    "lreg.fit(X_b, y_b) \n",
    "\n",
    "plot_decision_regions(X_b, y_b, clf = lreg)"
   ]
  },
  {
   "cell_type": "markdown",
   "metadata": {},
   "source": [
    "# DECISION TREE CLASSIFIER"
   ]
  },
  {
   "cell_type": "code",
   "execution_count": 57,
   "metadata": {},
   "outputs": [
    {
     "name": "stdout",
     "output_type": "stream",
     "text": [
      "Test score: 0.828\n",
      "Train score: 0.826\n"
     ]
    }
   ],
   "source": [
    "from sklearn.tree import DecisionTreeClassifier\n",
    "tree= DecisionTreeClassifier(max_depth=1).fit(X_Train, y_train)\n",
    "pred_t= tree.predict(X_Test)\n",
    "print(\"Test score: {:.3f}\".format(tree.score(X_Train, y_train)))\n",
    "print(\"Train score: {:.3f}\".format(tree.score(X_Test, y_test)))"
   ]
  },
  {
   "cell_type": "code",
   "execution_count": 58,
   "metadata": {},
   "outputs": [
    {
     "name": "stdout",
     "output_type": "stream",
     "text": [
      "              precision    recall  f1-score   support\n",
      "\n",
      "        zero       0.82      0.89      0.86      1739\n",
      "         one       0.83      0.74      0.78      1261\n",
      "\n",
      "    accuracy                           0.83      3000\n",
      "   macro avg       0.83      0.81      0.82      3000\n",
      "weighted avg       0.83      0.83      0.82      3000\n",
      "\n"
     ]
    }
   ],
   "source": [
    "print(classification_report(y_test, pred_t, target_names=[\"zero\", \"one\"]))"
   ]
  },
  {
   "cell_type": "code",
   "execution_count": 59,
   "metadata": {},
   "outputs": [
    {
     "name": "stdout",
     "output_type": "stream",
     "text": [
      "Decision: Best Parameters {'max_depth': 10}\n",
      "0.899\n"
     ]
    }
   ],
   "source": [
    "from sklearn.model_selection import GridSearchCV\n",
    "tree = DecisionTreeClassifier()\n",
    "param = { 'max_depth':[1,2,3,4,5,6,7,8,9,10]}\n",
    "dtree = GridSearchCV(tree,param,cv=5, return_train_score=True)\n",
    "dtree.fit(X_Train,y_train)\n",
    "\n",
    "print('Decision: Best Parameters',dtree.best_params_)\n",
    "\n",
    "\n",
    "pred_dt = dtree.predict(X_Test)\n",
    "print(dtree.score(X_Test,y_test))"
   ]
  },
  {
   "cell_type": "code",
   "execution_count": 60,
   "metadata": {},
   "outputs": [
    {
     "name": "stdout",
     "output_type": "stream",
     "text": [
      "0.9477142857142857\n",
      "0.905\n"
     ]
    }
   ],
   "source": [
    "tree= DecisionTreeClassifier(max_depth=9).fit(X_Train, y_train)\n",
    "pred_tree=tree.predict(X_Test)\n",
    "print(tree.score(X_Train,y_train))\n",
    "print(tree.score(X_Test,y_test))"
   ]
  },
  {
   "cell_type": "code",
   "execution_count": 61,
   "metadata": {},
   "outputs": [
    {
     "data": {
      "text/plain": [
       "0.9017079829758048"
      ]
     },
     "execution_count": 61,
     "metadata": {},
     "output_type": "execute_result"
    }
   ],
   "source": [
    "from sklearn.metrics import roc_auc_score\n",
    "roc_auc_score(y_test,pred_tree)"
   ]
  },
  {
   "cell_type": "code",
   "execution_count": 62,
   "metadata": {},
   "outputs": [
    {
     "data": {
      "text/plain": [
       "<matplotlib.axes._subplots.AxesSubplot at 0x212ea12bf88>"
      ]
     },
     "execution_count": 62,
     "metadata": {},
     "output_type": "execute_result"
    },
    {
     "data": {
      "image/png": "[encoded data removed]",
      "text/plain": [
       "<Figure size 432x288 with 1 Axes>"
      ]
     },
     "metadata": {},
     "output_type": "display_data"
    }
   ],
   "source": [
    "from mlxtend.plotting import plot_decision_regions\n",
    "\n",
    "X_b = X_Train[10:50,[0,1]]\n",
    "y_b = np.array(y_train[10:50]).flatten()\n",
    "\n",
    "dtree= DecisionTreeClassifier(max_depth=2)\n",
    "dtree.fit(X_b, y_b) \n",
    "\n",
    "plot_decision_regions(X_b, y_b, clf = dtree)"
   ]
  },
  {
   "cell_type": "markdown",
   "metadata": {},
   "source": [
    "# Linear Support Vector Machine"
   ]
  },
  {
   "cell_type": "code",
   "execution_count": 63,
   "metadata": {},
   "outputs": [
    {
     "name": "stdout",
     "output_type": "stream",
     "text": [
      "0.8703333333333333\n"
     ]
    }
   ],
   "source": [
    "from sklearn.svm import LinearSVC, SVC\n",
    "linsvc = LinearSVC()\n",
    "linsvc.fit(X_Train,y_train)\n",
    "pred=linsvc.predict(X_Test)\n",
    "print(linsvc.score(X_Test,y_test))"
   ]
  },
  {
   "cell_type": "code",
   "execution_count": 64,
   "metadata": {},
   "outputs": [
    {
     "name": "stdout",
     "output_type": "stream",
     "text": [
      "LinearSCV: Best Parameters {'C': 10}\n",
      "0.8713333333333333\n"
     ]
    }
   ],
   "source": [
    "from sklearn.svm import LinearSVC, SVC\n",
    "linsvc = LinearSVC()\n",
    "param = { 'C':[0.001,0.01,0.1,1,10,100,100]}\n",
    "linear_svc= GridSearchCV(linsvc,param,cv=5, return_train_score=True)\n",
    "linear_svc.fit(X_Train,y_train)\n",
    "\n",
    "print('LinearSCV: Best Parameters',linear_svc.best_params_)\n",
    "\n",
    "\n",
    "pred_svc = linear_svc.predict(X_Test)\n",
    "print(linear_svc.score(X_Test,y_test))"
   ]
  },
  {
   "cell_type": "code",
   "execution_count": 65,
   "metadata": {},
   "outputs": [
    {
     "name": "stdout",
     "output_type": "stream",
     "text": [
      "0.8741428571428571\n",
      "0.8713333333333333\n"
     ]
    }
   ],
   "source": [
    "svc=LinearSVC(C=10)\n",
    "svc.fit(X_Train,y_train)\n",
    "print(svc.score(X_Train,y_train))\n",
    "print(svc.score(X_Test,y_test))"
   ]
  },
  {
   "cell_type": "code",
   "execution_count": 66,
   "metadata": {},
   "outputs": [
    {
     "data": {
      "text/plain": [
       "<matplotlib.axes._subplots.AxesSubplot at 0x212ea1145c8>"
      ]
     },
     "execution_count": 66,
     "metadata": {},
     "output_type": "execute_result"
    },
    {
     "data": {
      "image/png": "[encoded data removed]",
      "text/plain": [
       "<Figure size 432x288 with 1 Axes>"
      ]
     },
     "metadata": {},
     "output_type": "display_data"
    }
   ],
   "source": [
    "X_b = X_Train[10:100,[0,1]]\n",
    "y_b = np.array(y_train[10:100]).flatten()\n",
    "\n",
    "clf= LinearSVC(C=10)\n",
    "clf.fit(X_b, y_b) \n",
    "\n",
    "plot_decision_regions(X_b, y_b, clf = clf)"
   ]
  },
  {
   "cell_type": "code",
   "execution_count": 67,
   "metadata": {},
   "outputs": [
    {
     "name": "stdout",
     "output_type": "stream",
     "text": [
      "              precision    recall  f1-score   support\n",
      "\n",
      "        zero       0.88      0.90      0.89      1739\n",
      "         one       0.85      0.84      0.85      1261\n",
      "\n",
      "    accuracy                           0.87      3000\n",
      "   macro avg       0.87      0.87      0.87      3000\n",
      "weighted avg       0.87      0.87      0.87      3000\n",
      "\n"
     ]
    }
   ],
   "source": [
    "from sklearn.metrics import classification_report\n",
    "\n",
    "print(classification_report(y_test, pred_svc, target_names=[\"zero\", \"one\"]))"
   ]
  },
  {
   "cell_type": "markdown",
   "metadata": {},
   "source": [
    "# SVC WITH KERNEL\n"
   ]
  },
  {
   "cell_type": "code",
   "execution_count": 68,
   "metadata": {
    "scrolled": false
   },
   "outputs": [
    {
     "data": {
      "image/png": "[encoded data removed]",
      "text/plain": [
       "<Figure size 720x576 with 3 Axes>"
      ]
     },
     "metadata": {},
     "output_type": "display_data"
    }
   ],
   "source": [
    "from matplotlib import gridspec\n",
    "from mlxtend.plotting import plot_decision_regions \n",
    "import itertools\n",
    "C = 10\n",
    "X_b = X_Train[10:50,[0,1]]\n",
    "y_b = np.array(y_train[10:50]).flatten()\n",
    "\n",
    "clf2 = SVC(kernel='linear', C=C)\n",
    "clf3 = SVC(kernel='rbf', gamma=10, C=C)\n",
    "clf4 = SVC(kernel='poly', degree=2, C=C)\n",
    "\n",
    "gs = gridspec.GridSpec(2, 2)\n",
    "fig = plt.figure(figsize=(10, 8))\n",
    "\n",
    "labels = [\n",
    "          'SVC with linear kernel',\n",
    "          'SVC with RBF kernel',\n",
    "          'SVC with polynomial (degree 2) kernel']\n",
    "\n",
    "for clf, lab, grd in zip([ clf2, clf3, clf4],\n",
    "                         labels,\n",
    "                         itertools.product([0, 1],\n",
    "                         repeat=2)):\n",
    "    clf.fit(X_b, y_b)\n",
    "    ax = plt.subplot(gs[grd[0], grd[1]])\n",
    "    fig = plot_decision_regions(X=X_b, y=y_b,clf=clf, legend=2)\n",
    "    plt.title(lab)"
   ]
  },
  {
   "cell_type": "code",
   "execution_count": 69,
   "metadata": {},
   "outputs": [
    {
     "data": {
      "text/plain": [
       "GridSearchCV(cv=5, error_score=nan,\n",
       "             estimator=SVC(C=1.0, break_ties=False, cache_size=200,\n",
       "                           class_weight=None, coef0=0.0,\n",
       "                           decision_function_shape='ovr', degree=3,\n",
       "                           gamma='scale', kernel='rbf', max_iter=-1,\n",
       "                           probability=False, random_state=None, shrinking=True,\n",
       "                           tol=0.001, verbose=False),\n",
       "             iid='deprecated', n_jobs=None,\n",
       "             param_grid={'kernel': ['linear', 'rbf', 'poly']},\n",
       "             pre_dispatch='2*n_jobs', refit=True, return_train_score=True,\n",
       "             scoring=None, verbose=0)"
      ]
     },
     "execution_count": 69,
     "metadata": {},
     "output_type": "execute_result"
    }
   ],
   "source": [
    "svc_kernel=SVC()\n",
    "param = { 'kernel':['linear','rbf','poly']}\n",
    "svc= GridSearchCV(svc_kernel,param,cv=5, return_train_score=True)\n",
    "svc.fit(X_Train,y_train)\n",
    "\n"
   ]
  },
  {
   "cell_type": "code",
   "execution_count": 70,
   "metadata": {},
   "outputs": [
    {
     "data": {
      "text/plain": [
       "{'kernel': 'rbf'}"
      ]
     },
     "execution_count": 70,
     "metadata": {},
     "output_type": "execute_result"
    }
   ],
   "source": [
    "svc.best_params_"
   ]
  },
  {
   "cell_type": "code",
   "execution_count": 71,
   "metadata": {},
   "outputs": [
    {
     "data": {
      "text/plain": [
       "0.9288571428571428"
      ]
     },
     "execution_count": 71,
     "metadata": {},
     "output_type": "execute_result"
    }
   ],
   "source": [
    "svc.best_score_"
   ]
  },
  {
   "cell_type": "code",
   "execution_count": 72,
   "metadata": {},
   "outputs": [
    {
     "name": "stdout",
     "output_type": "stream",
     "text": [
      "svc: Best Parameters {'C': 10}\n",
      "0.9383333333333334\n"
     ]
    }
   ],
   "source": [
    "svc_lin=SVC(kernel='rbf')\n",
    "param = { 'C':[0.01,0.1,1,10,100]}\n",
    "svc= GridSearchCV(svc_lin,param,cv=5, return_train_score=True)\n",
    "svc.fit(X_Train,y_train)\n",
    "svc.best_params_\n",
    "print('svc: Best Parameters',svc.best_params_)\n",
    "\n",
    "\n",
    "pred_svc1 = svc.predict(X_Test)\n",
    "print(svc.score(X_Test,y_test))"
   ]
  },
  {
   "cell_type": "markdown",
   "metadata": {},
   "source": [
    "# SVC WITH RBF KERNEL"
   ]
  },
  {
   "cell_type": "code",
   "execution_count": 73,
   "metadata": {},
   "outputs": [
    {
     "data": {
      "image/png": "[encoded data removed]",
      "text/plain": [
       "<Figure size 720x576 with 4 Axes>"
      ]
     },
     "metadata": {},
     "output_type": "display_data"
    }
   ],
   "source": [
    "from matplotlib import gridspec\n",
    "import itertools\n",
    "C = 100\n",
    "clf1 = SVC(kernel='rbf', gamma=0.01, C=C)\n",
    "clf2 = SVC(kernel='rbf', gamma=0.1, C=C)\n",
    "clf3 = SVC(kernel='rbf', gamma=1, C=C)\n",
    "clf4 = SVC(kernel='rbf', gamma=10, C=C)\n",
    "\n",
    "X_b = X_Train[10:100,[0,1]]\n",
    "y_b = np.array(y_train[10:100]).flatten()\n",
    "\n",
    "models = (SVC(kernel='rbf', gamma=0.01, C=100),\n",
    "         SVC(kernel = 'rbf', gamma = 0.1, C = 100),\n",
    "         SVC(kernel = 'rbf', gamma = 1, C = 100),\n",
    "         SVC(kernel = 'rbf', gamma = 10, C = 100))\n",
    "\n",
    "\n",
    "gs = gridspec.GridSpec(2, 2)\n",
    "fig = plt.figure(figsize=(10, 8))\n",
    "labels = ['gamma = 0.01',\n",
    "          'gamma = 0.1',\n",
    "          'gamma = 1',\n",
    "          'gamma = 10']\n",
    "\n",
    "for clf, lab, grd in zip([clf1, clf2, clf3, clf4],\n",
    "                         labels,\n",
    "                         itertools.product([0, 1],\n",
    "                         repeat=2)):\n",
    "    clf.fit(X_b, y_b)\n",
    "    ax = plt.subplot(gs[grd[0], grd[1]])\n",
    "    fig = plot_decision_regions(X=X_b, y=y_b,\n",
    "                                clf=clf, legend=2)\n",
    "    plt.title(lab)"
   ]
  },
  {
   "cell_type": "code",
   "execution_count": 74,
   "metadata": {},
   "outputs": [
    {
     "name": "stdout",
     "output_type": "stream",
     "text": [
      "0.9535714285714286\n",
      "0.932\n"
     ]
    }
   ],
   "source": [
    "svc=SVC(kernel='rbf',gamma=1)\n",
    "svc.fit(X_Train,y_train)\n",
    "print(svc.score(X_Train,y_train))\n",
    "pred_rbf_svc=svc.predict(X_Test)\n",
    "print(svc.score(X_Test,y_test))"
   ]
  },
  {
   "cell_type": "code",
   "execution_count": 75,
   "metadata": {},
   "outputs": [
    {
     "name": "stdout",
     "output_type": "stream",
     "text": [
      "              precision    recall  f1-score   support\n",
      "\n",
      "        zero       0.94      0.94      0.94      1739\n",
      "         one       0.92      0.91      0.92      1261\n",
      "\n",
      "    accuracy                           0.93      3000\n",
      "   macro avg       0.93      0.93      0.93      3000\n",
      "weighted avg       0.93      0.93      0.93      3000\n",
      "\n"
     ]
    }
   ],
   "source": [
    "from sklearn.metrics import classification_report\n",
    "\n",
    "print(classification_report(y_test, pred_rbf_svc, target_names=[\"zero\", \"one\"]))"
   ]
  },
  {
   "cell_type": "code",
   "execution_count": 76,
   "metadata": {},
   "outputs": [],
   "source": [
    "Summary={'Algorithm':['KNN Classifier', 'Logistic Regression',\n",
    "                      'Decision Tree','Linear SVC', 'SVC with Kernel',], \n",
    "         'Best Accuracy Obtained':[[0.908],[0.874],[0.928],[0.8724],[0.93],], \n",
    "         'Parameters':['K=7',['C=1','penalty=l1'],'max_depth=7','C=1',['kernel:rbf','gamma=0.1','C=100'],], \n",
    "         'Precision':[[0.89,0.93],[0.89,0.86],[0.86,0.71],[0.88,0.85],[0.91,0.92],],\n",
    "         'Recall':[[0.95,0.84],[0.90,0.84],[0.75,0.82],[0.90,0.84],[0.95,0.86],],\n",
    "         'F1-score':[[0.92,0.88],[0.89,0.85],[0.80,0.76],[0.89,0.85],[0.93,0.89]]}\n",
    "Summary_table=pd.DataFrame(Summary, columns=['Algorithm','Best Accuracy Obtained','Parameters',\n",
    "                                             'Precision','Recall','F1-score'])"
   ]
  },
  {
   "cell_type": "code",
   "execution_count": 77,
   "metadata": {},
   "outputs": [
    {
     "data": {
      "text/html": [
       "<div>\n",
       "<style scoped>\n",
       "    .dataframe tbody tr th:only-of-type {\n",
       "        vertical-align: middle;\n",
       "    }\n",
       "\n",
       "    .dataframe tbody tr th {\n",
       "        vertical-align: top;\n",
       "    }\n",
       "\n",
       "    .dataframe thead th {\n",
       "        text-align: right;\n",
       "    }\n",
       "</style>\n",
       "<table border=\"1\" class=\"dataframe\">\n",
       "  <thead>\n",
       "    <tr style=\"text-align: right;\">\n",
       "      <th></th>\n",
       "      <th>Algorithm</th>\n",
       "      <th>Best Accuracy Obtained</th>\n",
       "      <th>Parameters</th>\n",
       "      <th>Precision</th>\n",
       "      <th>Recall</th>\n",
       "      <th>F1-score</th>\n",
       "    </tr>\n",
       "  </thead>\n",
       "  <tbody>\n",
       "    <tr>\n",
       "      <th>0</th>\n",
       "      <td>KNN Classifier</td>\n",
       "      <td>[0.908]</td>\n",
       "      <td>K=7</td>\n",
       "      <td>[0.89, 0.93]</td>\n",
       "      <td>[0.95, 0.84]</td>\n",
       "      <td>[0.92, 0.88]</td>\n",
       "    </tr>\n",
       "    <tr>\n",
       "      <th>1</th>\n",
       "      <td>Logistic Regression</td>\n",
       "      <td>[0.874]</td>\n",
       "      <td>[C=1, penalty=l1]</td>\n",
       "      <td>[0.89, 0.86]</td>\n",
       "      <td>[0.9, 0.84]</td>\n",
       "      <td>[0.89, 0.85]</td>\n",
       "    </tr>\n",
       "    <tr>\n",
       "      <th>2</th>\n",
       "      <td>Decision Tree</td>\n",
       "      <td>[0.928]</td>\n",
       "      <td>max_depth=7</td>\n",
       "      <td>[0.86, 0.71]</td>\n",
       "      <td>[0.75, 0.82]</td>\n",
       "      <td>[0.8, 0.76]</td>\n",
       "    </tr>\n",
       "    <tr>\n",
       "      <th>3</th>\n",
       "      <td>Linear SVC</td>\n",
       "      <td>[0.8724]</td>\n",
       "      <td>C=1</td>\n",
       "      <td>[0.88, 0.85]</td>\n",
       "      <td>[0.9, 0.84]</td>\n",
       "      <td>[0.89, 0.85]</td>\n",
       "    </tr>\n",
       "    <tr>\n",
       "      <th>4</th>\n",
       "      <td>SVC with Kernel</td>\n",
       "      <td>[0.93]</td>\n",
       "      <td>[kernel:rbf, gamma=0.1, C=100]</td>\n",
       "      <td>[0.91, 0.92]</td>\n",
       "      <td>[0.95, 0.86]</td>\n",
       "      <td>[0.93, 0.89]</td>\n",
       "    </tr>\n",
       "  </tbody>\n",
       "</table>\n",
       "</div>"
      ],
      "text/plain": [
       "             Algorithm Best Accuracy Obtained                      Parameters  \\\n",
       "0       KNN Classifier                [0.908]                             K=7   \n",
       "1  Logistic Regression                [0.874]               [C=1, penalty=l1]   \n",
       "2        Decision Tree                [0.928]                     max_depth=7   \n",
       "3           Linear SVC               [0.8724]                             C=1   \n",
       "4      SVC with Kernel                 [0.93]  [kernel:rbf, gamma=0.1, C=100]   \n",
       "\n",
       "      Precision        Recall      F1-score  \n",
       "0  [0.89, 0.93]  [0.95, 0.84]  [0.92, 0.88]  \n",
       "1  [0.89, 0.86]   [0.9, 0.84]  [0.89, 0.85]  \n",
       "2  [0.86, 0.71]  [0.75, 0.82]   [0.8, 0.76]  \n",
       "3  [0.88, 0.85]   [0.9, 0.84]  [0.89, 0.85]  \n",
       "4  [0.91, 0.92]  [0.95, 0.86]  [0.93, 0.89]  "
      ]
     },
     "execution_count": 77,
     "metadata": {},
     "output_type": "execute_result"
    }
   ],
   "source": [
    "Summary_table"
   ]
  },
  {
   "cell_type": "markdown",
   "metadata": {},
   "source": [
    "According to the summary generated, we can predict the best model for our data depending upon the F1-score, Recall and best accuracy obtained.\n",
    "Best accuracy is obtained by SVC with Kernel by giving maximum precison , recall and F-1 score and is the best model to go forward with."
   ]
  },
  {
   "cell_type": "markdown",
   "metadata": {},
   "source": [
    "## SUMMARY POST PCA"
   ]
  },
  {
   "cell_type": "code",
   "execution_count": 78,
   "metadata": {},
   "outputs": [],
   "source": [
    "Summary={'Algorithm':['KNN Classifier', 'Logistic Regression',\n",
    "                      'Decision Tree','Linear SVC', 'SVC with Kernel',], \n",
    "         'Best Accuracy Obtained':[[0.96],[0.873],[0.90],[0.87],[0.93],], \n",
    "         'Parameters':['K=9',['C=10','penalty=l2'],'max_depth=9','C=10',['kernel:rbf','gamma=1','C=10'],], \n",
    "         'Precision':[[0.9,0.93],[0.89,0.85],[0.82,0.83],[0.88,0.85],[0.94,0.92],],\n",
    "         'Recall':[[0.96,0.85],[0.90,0.84],[0.89,0.74],[0.90,0.84],[0.94,0.91],],\n",
    "         'F1-score':[[0.93,0.89],[0.89,0.85],[0.86,0.78],[0.89,0.85],[0.94,0.92]]}\n",
    "Summary_table=pd.DataFrame(Summary, columns=['Algorithm','Best Accuracy Obtained','Parameters',\n",
    "                                             'Precision','Recall','F1-score'])"
   ]
  },
  {
   "cell_type": "code",
   "execution_count": 79,
   "metadata": {},
   "outputs": [
    {
     "data": {
      "text/html": [
       "<div>\n",
       "<style scoped>\n",
       "    .dataframe tbody tr th:only-of-type {\n",
       "        vertical-align: middle;\n",
       "    }\n",
       "\n",
       "    .dataframe tbody tr th {\n",
       "        vertical-align: top;\n",
       "    }\n",
       "\n",
       "    .dataframe thead th {\n",
       "        text-align: right;\n",
       "    }\n",
       "</style>\n",
       "<table border=\"1\" class=\"dataframe\">\n",
       "  <thead>\n",
       "    <tr style=\"text-align: right;\">\n",
       "      <th></th>\n",
       "      <th>Algorithm</th>\n",
       "      <th>Best Accuracy Obtained</th>\n",
       "      <th>Parameters</th>\n",
       "      <th>Precision</th>\n",
       "      <th>Recall</th>\n",
       "      <th>F1-score</th>\n",
       "    </tr>\n",
       "  </thead>\n",
       "  <tbody>\n",
       "    <tr>\n",
       "      <th>0</th>\n",
       "      <td>KNN Classifier</td>\n",
       "      <td>[0.96]</td>\n",
       "      <td>K=9</td>\n",
       "      <td>[0.9, 0.93]</td>\n",
       "      <td>[0.96, 0.85]</td>\n",
       "      <td>[0.93, 0.89]</td>\n",
       "    </tr>\n",
       "    <tr>\n",
       "      <th>1</th>\n",
       "      <td>Logistic Regression</td>\n",
       "      <td>[0.873]</td>\n",
       "      <td>[C=10, penalty=l2]</td>\n",
       "      <td>[0.89, 0.85]</td>\n",
       "      <td>[0.9, 0.84]</td>\n",
       "      <td>[0.89, 0.85]</td>\n",
       "    </tr>\n",
       "    <tr>\n",
       "      <th>2</th>\n",
       "      <td>Decision Tree</td>\n",
       "      <td>[0.9]</td>\n",
       "      <td>max_depth=9</td>\n",
       "      <td>[0.82, 0.83]</td>\n",
       "      <td>[0.89, 0.74]</td>\n",
       "      <td>[0.86, 0.78]</td>\n",
       "    </tr>\n",
       "    <tr>\n",
       "      <th>3</th>\n",
       "      <td>Linear SVC</td>\n",
       "      <td>[0.87]</td>\n",
       "      <td>C=10</td>\n",
       "      <td>[0.88, 0.85]</td>\n",
       "      <td>[0.9, 0.84]</td>\n",
       "      <td>[0.89, 0.85]</td>\n",
       "    </tr>\n",
       "    <tr>\n",
       "      <th>4</th>\n",
       "      <td>SVC with Kernel</td>\n",
       "      <td>[0.93]</td>\n",
       "      <td>[kernel:rbf, gamma=1, C=10]</td>\n",
       "      <td>[0.94, 0.92]</td>\n",
       "      <td>[0.94, 0.91]</td>\n",
       "      <td>[0.94, 0.92]</td>\n",
       "    </tr>\n",
       "  </tbody>\n",
       "</table>\n",
       "</div>"
      ],
      "text/plain": [
       "             Algorithm Best Accuracy Obtained                   Parameters  \\\n",
       "0       KNN Classifier                 [0.96]                          K=9   \n",
       "1  Logistic Regression                [0.873]           [C=10, penalty=l2]   \n",
       "2        Decision Tree                  [0.9]                  max_depth=9   \n",
       "3           Linear SVC                 [0.87]                         C=10   \n",
       "4      SVC with Kernel                 [0.93]  [kernel:rbf, gamma=1, C=10]   \n",
       "\n",
       "      Precision        Recall      F1-score  \n",
       "0   [0.9, 0.93]  [0.96, 0.85]  [0.93, 0.89]  \n",
       "1  [0.89, 0.85]   [0.9, 0.84]  [0.89, 0.85]  \n",
       "2  [0.82, 0.83]  [0.89, 0.74]  [0.86, 0.78]  \n",
       "3  [0.88, 0.85]   [0.9, 0.84]  [0.89, 0.85]  \n",
       "4  [0.94, 0.92]  [0.94, 0.91]  [0.94, 0.92]  "
      ]
     },
     "execution_count": 79,
     "metadata": {},
     "output_type": "execute_result"
    }
   ],
   "source": [
    "Summary_table"
   ]
  },
  {
   "cell_type": "markdown",
   "metadata": {},
   "source": [
    "From the summary Table we can infer that there is not much difference in the accuracy after applying PCA. Almost all the Models have the same accuracy. KNN classifier can be considered as the model with the highest accuracy , precision and F1-score."
   ]
  }
 ],
 "metadata": {
  "kernelspec": {
   "display_name": "Python 3",
   "language": "python",
   "name": "python3"
  },
  "language_info": {
   "codemirror_mode": {
    "name": "ipython",
    "version": 3
   },
   "file_extension": ".py",
   "mimetype": "text/x-python",
   "name": "python",
   "nbconvert_exporter": "python",
   "pygments_lexer": "ipython3",
   "version": "3.7.6"
  }
 },
 "nbformat": 4,
 "nbformat_minor": 2
}
